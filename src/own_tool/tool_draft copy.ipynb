{
 "cells": [
  {
   "attachments": {},
   "cell_type": "markdown",
   "metadata": {},
   "source": [
    "# Code"
   ]
  },
  {
   "cell_type": "code",
   "execution_count": 1,
   "metadata": {},
   "outputs": [],
   "source": [
    "code = \"\"\"\n",
    "(declare-rel inv (Int Int ))\n",
    "(declare-var x0 Int)\n",
    "(declare-var x1 Int)\n",
    "(declare-var y0 Int)\n",
    "(declare-var y1 Int)\n",
    "(declare-var z1 Int)\n",
    "\n",
    "(declare-rel fail ())\n",
    "\n",
    "(rule (=> (and (= x0 0) (= y0 5000))\n",
    "    (inv x0 y0)))\n",
    "\n",
    "(rule (=> (and\n",
    "        (inv x0 y0)\n",
    "        (= x1 (+ x0 1))\n",
    "        (= y1 (ite (>= x0 5000) (+ y0 1) y0)))\n",
    "    (inv x1 y1)))\n",
    "\n",
    "(rule (=> (and (inv x0 y0) (= x0 10000)\n",
    "    (not (= y0 x0))) fail))\n",
    "\n",
    "(query fail)\n",
    "\"\"\""
   ]
  },
  {
   "attachments": {},
   "cell_type": "markdown",
   "metadata": {},
   "source": [
    "# Helpers"
   ]
  },
  {
   "cell_type": "code",
   "execution_count": 2,
   "metadata": {},
   "outputs": [
    {
     "data": {
      "text/html": [
       "&forall;x : &exist;y, z : x &gt; 0 &rArr; y &gt; 1 &and; z &gt; 4"
      ],
      "text/plain": [
       "ForAll(x, Exists([y, z], Implies(x > 0, And(y > 1, z > 4))))"
      ]
     },
     "execution_count": 2,
     "metadata": {},
     "output_type": "execute_result"
    }
   ],
   "source": [
    "import z3\n",
    "import os\n",
    "import sys\n",
    "module_path = os.path.abspath(os.path.join('../../../chc-tools'))\n",
    "if module_path not in sys.path:\n",
    "    sys.path.append(module_path)\n",
    "import chctools\n",
    "\n",
    "# build some formulas for testing\n",
    "x, y, z = z3.Ints('x y z')\n",
    "phi = z3.ForAll(x, z3.Exists([y, z], z3.Implies(x > 0, z3.And(y > 1, z > 4))))\n",
    "phi"
   ]
  },
  {
   "cell_type": "code",
   "execution_count": 3,
   "metadata": {},
   "outputs": [
    {
     "data": {
      "text/html": [
       "x"
      ],
      "text/plain": [
       "x"
      ]
     },
     "execution_count": 3,
     "metadata": {},
     "output_type": "execute_result"
    }
   ],
   "source": [
    "z3.Const(phi.var_name(0), phi.var_sort(0))\n"
   ]
  },
  {
   "cell_type": "code",
   "execution_count": 4,
   "metadata": {},
   "outputs": [
    {
     "data": {
      "text/html": [
       "x &gt; 0 &rArr; y &gt; 1 &and; z &gt; 4"
      ],
      "text/plain": [
       "Implies(x > 0, And(y > 1, z > 4))"
      ]
     },
     "execution_count": 4,
     "metadata": {},
     "output_type": "execute_result"
    }
   ],
   "source": [
    "phix = z3.substitute_vars(phi.body(), x)\n",
    "z3.substitute_vars(phix.body(), *reversed([y, z]))"
   ]
  },
  {
   "cell_type": "code",
   "execution_count": 5,
   "metadata": {},
   "outputs": [
    {
     "data": {
      "text/plain": [
       "(<function z3.z3.Exists(vs, body, weight=1, qid='', skid='', patterns=[], no_patterns=[])>,\n",
       " [y, z],\n",
       " Implies(Var(2) > 0, And(y > 1, z > 4)))"
      ]
     },
     "execution_count": 5,
     "metadata": {},
     "output_type": "execute_result"
    }
   ],
   "source": [
    "def expand_quant(fml):\n",
    "    \"\"\" Expands quantifier into Quantifier, Variables, and Body\n",
    "    \n",
    "        The result is a triple (Q, vars, body), such that Q(vars, body) is equivalent to fml\n",
    "        All variables in body are ground (i.e., regular constants)\n",
    "    \"\"\"\n",
    "    if z3.is_quantifier(fml):\n",
    "        gnd_vars = [z3.Const(fml.var_name(i), fml.var_sort(i)) for i in range(fml.num_vars())]\n",
    "        gnd_body = z3.substitute_vars(fml.body(), *reversed(gnd_vars))\n",
    "        quant = z3.Lambda\n",
    "        if fml.is_exists():\n",
    "            quant = z3.Exists\n",
    "        elif fml.is_forall():\n",
    "            quant = z3.ForAll\n",
    "        return quant, gnd_vars, gnd_body\n",
    "    else:\n",
    "        return (lambda x, y : y), [], fml\n",
    "\n",
    "\n",
    "# some test\n",
    "q, v, b = expand_quant(phi.body())\n",
    "q, v, b"
   ]
  },
  {
   "cell_type": "code",
   "execution_count": 6,
   "metadata": {},
   "outputs": [
    {
     "data": {
      "text/html": [
       "&exist;y, z : &#957;<sub>2</sub> &gt; 0 &rArr; y &gt; 1 &and; z &gt; 4"
      ],
      "text/plain": [
       "Exists([y, z], Implies(Var(2) > 0, And(y > 1, z > 4)))"
      ]
     },
     "execution_count": 6,
     "metadata": {},
     "output_type": "execute_result"
    }
   ],
   "source": [
    "q(v, b)"
   ]
  },
  {
   "cell_type": "code",
   "execution_count": 7,
   "metadata": {},
   "outputs": [
    {
     "name": "stdout",
     "output_type": "stream",
     "text": [
      "{8, 10, 11, 12, 13, 14, 16, 17, 18, 19, 20}\n"
     ]
    }
   ],
   "source": [
    "def for_each_expr(fml, fn, *args, **kwargs):\n",
    "    \"\"\" Execute given function fn on every sub-expression \n",
    "    \n",
    "        The return value of fn is used to decided whether children should be explored\n",
    "\n",
    "        Additional arguments are passed to fn and can be used to maintain state\n",
    "    \"\"\"\n",
    "\n",
    "    do_kids = fn(fml, *args, **kwargs)\n",
    "\n",
    "    if not do_kids: return\n",
    "    for k in fml.children():\n",
    "        for_each_expr(k, fn, *args, **kwargs)\n",
    "\n",
    "\n",
    "# example of a function that records every expression visited\n",
    "def myfn(fml, visited):\n",
    "    visited.add(fml.get_id())\n",
    "    return True\n",
    "\n",
    "visited = set()\n",
    "for_each_expr(phi.body().body(), myfn, visited)\n",
    "print(visited)"
   ]
  },
  {
   "cell_type": "code",
   "execution_count": 8,
   "metadata": {},
   "outputs": [
    {
     "name": "stdout",
     "output_type": "stream",
     "text": [
      "{8, 10, 11, 12, 13, 14, 16, 17, 18, 19, 20}\n"
     ]
    }
   ],
   "source": [
    "# an example of a function that records every expresison visited\n",
    "# and never visits an expression more than once (i.e., caches what it visited)\n",
    "def myfn2(fml, visited):\n",
    "    if fml.get_id() in visited:\n",
    "        return False\n",
    "    \n",
    "    # visiting fml the first time\n",
    "    visited.add(fml.get_id())\n",
    "    return True\n",
    "\n",
    "visited = set()\n",
    "for_each_expr(phi.body().body(), myfn2, visited)\n",
    "print(visited)"
   ]
  },
  {
   "attachments": {},
   "cell_type": "markdown",
   "metadata": {},
   "source": [
    "# TOOL"
   ]
  },
  {
   "cell_type": "code",
   "execution_count": 9,
   "metadata": {},
   "outputs": [
    {
     "data": {
      "text/html": [
       "<b>unknown</b>"
      ],
      "text/plain": [
       "unknown"
      ]
     },
     "execution_count": 9,
     "metadata": {},
     "output_type": "execute_result"
    }
   ],
   "source": [
    "import z3\n",
    "fp = z3.Fixedpoint()\n",
    "queries = fp.parse_string(code)\n",
    "fp.set('spacer.max_level', 40)\n",
    "fp.query(queries[0])"
   ]
  },
  {
   "cell_type": "code",
   "execution_count": 10,
   "metadata": {},
   "outputs": [
    {
     "name": "stdout",
     "output_type": "stream",
     "text": [
      "(declare-rel fail ())\n",
      "(declare-rel inv (Int Int))\n",
      "(declare-var A Int)\n",
      "(declare-var B Int)\n",
      "(declare-var C Int)\n",
      "(declare-var D Int)\n",
      "(rule (=> (and (= B 0) (= A 5000)) (inv B A)))\n",
      "(rule (let ((a!1 (and (inv D C) (= B (+ D 1)) (= A (ite (>= D 5000) (+ C 1) C)))))\n",
      "  (=> a!1 (inv B A))))\n",
      "(rule (=> (and (inv A B) (= A 10000) (not (= B A))) fail))\n",
      "(query fail)\n",
      "\n"
     ]
    }
   ],
   "source": [
    "print(fp.to_string(queries))"
   ]
  },
  {
   "cell_type": "code",
   "execution_count": 11,
   "metadata": {},
   "outputs": [
    {
     "data": {
      "text/html": [
       "&forall;A, B : A = 0 &and; B = 5000 &rArr; inv(A, B)"
      ],
      "text/plain": [
       "ForAll([A, B], Implies(And(A == 0, B == 5000), inv(A, B)))"
      ]
     },
     "execution_count": 11,
     "metadata": {},
     "output_type": "execute_result"
    }
   ],
   "source": [
    "rules = fp.get_rules()\n",
    "rules[0]"
   ]
  },
  {
   "cell_type": "code",
   "execution_count": 12,
   "metadata": {},
   "outputs": [
    {
     "data": {
      "text/html": [
       "[&forall;A, B : A = 0 &and; B = 5000 &rArr; inv(A, B),\n",
       " &forall;A, B, C, D :\n",
       "  inv(A, B) &and; C = A + 1 &and; D = If(A &ge; 5000, B + 1, B) &rArr;\n",
       "  inv(C, D),\n",
       " &forall;A, B : inv(B, A) &and; B = 10000 &and; &not;(A = B) &rArr; fail]"
      ],
      "text/plain": [
       "[ForAll([A, B], Implies(And(A == 0, B == 5000), inv(A, B))),\n",
       " ForAll([A, B, C, D],\n",
       "        Implies(And(inv(A, B),\n",
       "                    C == A + 1,\n",
       "                    D == If(A >= 5000, B + 1, B)),\n",
       "                inv(C, D))),\n",
       " ForAll([A, B],\n",
       "        Implies(And(inv(B, A), B == 10000, Not(A == B)),\n",
       "                fail))]"
      ]
     },
     "execution_count": 12,
     "metadata": {},
     "output_type": "execute_result"
    }
   ],
   "source": [
    "rules"
   ]
  },
  {
   "cell_type": "code",
   "execution_count": 13,
   "metadata": {},
   "outputs": [
    {
     "data": {
      "text/plain": [
       "(ForAll([A, B], Implies(And(A == 0, B == 5000), inv(A, B))),\n",
       " '(=> (and (= (:var 1) 0) (= (:var 0) 5000)) (inv (:var 1) (:var 0)))',\n",
       " ['(and (= (:var 1) 0) (= (:var 0) 5000))', '(inv (:var 1) (:var 0))'])"
      ]
     },
     "execution_count": 13,
     "metadata": {},
     "output_type": "execute_result"
    }
   ],
   "source": [
    "r = rules[0]\n",
    "r, r.body().sexpr(), [x.sexpr() for x in r.body().children()]"
   ]
  },
  {
   "cell_type": "code",
   "execution_count": 14,
   "metadata": {},
   "outputs": [
    {
     "data": {
      "text/plain": [
       "(True, 5000, '5000')"
      ]
     },
     "execution_count": 14,
     "metadata": {},
     "output_type": "execute_result"
    }
   ],
   "source": [
    "num = r.body().arg(0).arg(1).arg(1)\n",
    "z3.is_int(num), num.as_long(), num.as_string()"
   ]
  },
  {
   "cell_type": "code",
   "execution_count": 15,
   "metadata": {},
   "outputs": [
    {
     "name": "stdout",
     "output_type": "stream",
     "text": [
      "rule=ForAll([A, B], Implies(And(A == 0, B == 5000), inv(A, B))),\n",
      " rl=Implies(And(Var(1) == 0, Var(0) == 5000),\n",
      "        inv(Var(1), Var(0))) \n",
      "\n",
      "\n",
      "rule=ForAll([A, B, C, D],\n",
      "       Implies(And(inv(A, B),\n",
      "                   C == A + 1,\n",
      "                   D == If(A >= 5000, B + 1, B)),\n",
      "               inv(C, D))),\n",
      " rl=Implies(And(inv(Var(3), Var(2)),\n",
      "            Var(1) == Var(3) + 1,\n",
      "            Var(0) == If(Var(3) >= 5000, Var(2) + 1, Var(2))),\n",
      "        inv(Var(1), Var(0))) \n",
      "\n",
      "\n",
      "rule=ForAll([A, B],\n",
      "       Implies(And(inv(B, A), B == 10000, Not(A == B)),\n",
      "               fail)),\n",
      " rl=Implies(And(inv(Var(0), Var(1)),\n",
      "            Var(0) == 10000,\n",
      "            Not(Var(1) == Var(0))),\n",
      "        fail) \n",
      "\n",
      "\n"
     ]
    }
   ],
   "source": [
    "for rule in rules:\n",
    "    rl = rule.body()\n",
    "    # rl2 = z3.substitute(rl, (var(1), )\n",
    "    print(f\"rule={rule},\\n rl={rl} \\n\\n\")"
   ]
  },
  {
   "cell_type": "code",
   "execution_count": 16,
   "metadata": {},
   "outputs": [
    {
     "data": {
      "text/html": [
       "&forall;N : 5000 = N &rArr; (&forall;A, B : A = 0 &and; B = N &rArr; inv(A, B))"
      ],
      "text/plain": [
       "ForAll(N,\n",
       "       Implies(5000 == N,\n",
       "               ForAll([A, B],\n",
       "                      Implies(And(A == 0, B == N),\n",
       "                              inv(A, B)))))"
      ]
     },
     "execution_count": 16,
     "metadata": {},
     "output_type": "execute_result"
    }
   ],
   "source": [
    "N = z3.Int(\"N\")\n",
    "new_init = z3.ForAll(N, z3.Implies(N == num, z3.substitute(r, (num, N))))\n",
    "new_init"
   ]
  },
  {
   "cell_type": "code",
   "execution_count": 17,
   "metadata": {},
   "outputs": [
    {
     "name": "stdout",
     "output_type": "stream",
     "text": [
      "[A, B]\n",
      "[A, B, N]\n"
     ]
    },
    {
     "data": {
      "text/html": [
       "&forall;A, B, N : 5000 = N &rArr; (A = 0 &and; B = N &rArr; inv(A, B))"
      ],
      "text/plain": [
       "ForAll([A, B, N],\n",
       "       Implies(5000 == N,\n",
       "               Implies(And(A == 0, B == N), inv(A, B))))"
      ]
     },
     "execution_count": 17,
     "metadata": {},
     "output_type": "execute_result"
    }
   ],
   "source": [
    "q, vars, gnd_body = expand_quant(r)\n",
    "gnd_body = z3.Implies(N == num, z3.substitute(gnd_body, (num, N)))\n",
    "gnd_body\n",
    "print(vars)\n",
    "print(vars + [N])\n",
    "q(vars + [N], gnd_body)\n"
   ]
  },
  {
   "cell_type": "code",
   "execution_count": 18,
   "metadata": {},
   "outputs": [
    {
     "data": {
      "text/html": [
       "5000 = &#957;<sub>0</sub> &rArr; (&forall;A, B : A = 0 &and; B = &#957;<sub>2</sub> &rArr; inv(A, B))"
      ],
      "text/plain": [
       "Implies(5000 == Var(0),\n",
       "        ForAll([A, B],\n",
       "               Implies(And(A == 0, B == Var(2)), inv(A, B))))"
      ]
     },
     "execution_count": 18,
     "metadata": {},
     "output_type": "execute_result"
    }
   ],
   "source": [
    "new_init.body()"
   ]
  },
  {
   "cell_type": "code",
   "execution_count": 19,
   "metadata": {},
   "outputs": [],
   "source": [
    "def is_magic_num(v):\n",
    "    return z3.is_int_value(v) and v.as_long() != 0\n",
    "\n",
    "def has_comparison_operator(expr):\n",
    "    comparison_ops = [\n",
    "        z3.is_lt,\n",
    "        z3.is_le,\n",
    "        z3.is_gt,\n",
    "        z3.is_ge,\n",
    "        z3.is_eq,\n",
    "        z3.is_distinct,\n",
    "    ]\n",
    "\n",
    "    if any(op(expr) for op in comparison_ops):\n",
    "        return True\n",
    "\n",
    "    return False"
   ]
  },
  {
   "cell_type": "code",
   "execution_count": 20,
   "metadata": {},
   "outputs": [],
   "source": [
    "def find_magic_in_rule(rule):\n",
    "    q, v, b = expand_quant(rule)\n",
    "    return find_magic_in_gnd_rule(b)\n",
    "\n",
    "def find_magic_in_gnd_rule(rule):\n",
    "    myset = set()\n",
    "\n",
    "    def find_magic(x, found):\n",
    "        if has_comparison_operator(x): \n",
    "            f_arg = x.arg(0)\n",
    "            s_arg = x.arg(1)\n",
    "\n",
    "            if is_magic_num(f_arg):\n",
    "                found.add(f_arg)\n",
    "            if is_magic_num(s_arg):\n",
    "                found.add(s_arg)\n",
    "\n",
    "            return False\n",
    "        else:\n",
    "            return True\n",
    "        \n",
    "    for_each_expr(rule, find_magic, found=myset)\n",
    "    return myset"
   ]
  },
  {
   "cell_type": "code",
   "execution_count": 21,
   "metadata": {},
   "outputs": [
    {
     "data": {
      "text/plain": [
       "[10000, 5000]"
      ]
     },
     "execution_count": 21,
     "metadata": {},
     "output_type": "execute_result"
    }
   ],
   "source": [
    "[s1, s2, s3] = map(find_magic_in_rule, rules)\n",
    "list(s1.union(s2, s3))"
   ]
  },
  {
   "cell_type": "code",
   "execution_count": 22,
   "metadata": {},
   "outputs": [
    {
     "name": "stdout",
     "output_type": "stream",
     "text": [
      "substitutions=[(10000, K10000), (5000, K5000)]\n",
      "s_rules[0]: ForAll([A, B], Implies(And(A == 0, B == K5000), inv(A, B)))\n",
      "s_rules[1]: ForAll([A, B, C, D],\n",
      "       Implies(And(inv(A, B),\n",
      "                   C == A + 1,\n",
      "                   D == If(A >= K5000, B + 1, B)),\n",
      "               inv(C, D)))\n",
      "s_rules[2]: ForAll([A, B],\n",
      "       Implies(And(inv(B, A), B == K10000, Not(A == B)),\n",
      "               fail))\n",
      "-----\n",
      "new_vars=[[var__0, var__1, K10000, K5000], [var__0, var__1, var__2, var__3, K10000, K5000], [var__0, var__1, K10000, K5000]]\n",
      "new_rules=[ForAll([var__0, var__1, K10000, K5000],\n",
      "       Implies(And(var__1 == 0, var__0 == K5000),\n",
      "               inv(var__1, var__0))), ForAll([var__0, var__1, var__2, var__3, K10000, K5000],\n",
      "       Implies(And(inv(var__3, var__2),\n",
      "                   var__1 == var__3 + 1,\n",
      "                   var__0 ==\n",
      "                   If(var__3 >= K5000, var__2 + 1, var__2)),\n",
      "               inv(var__1, var__0))), ForAll([var__0, var__1, K10000, K5000],\n",
      "       Implies(And(inv(var__0, var__1),\n",
      "                   var__0 == K10000,\n",
      "                   Not(var__1 == var__0)),\n",
      "               fail))]\n",
      "(declare-fun inv (Int Int) Bool)\n",
      "(declare-fun fail () Bool)\n",
      "(declare-var A Int)\n",
      "(declare-var B Int)\n",
      "(declare-var C Int)\n",
      "(declare-var D Int)\n",
      "(declare-var E Int)\n",
      "(declare-var F Int)\n",
      "(rule (=> (and (= C 0) (= D A)) (inv C D)))\n",
      "(rule (let ((a!1 (and (inv C D) (= E (+ C 1)) (= F (ite (>= C A) (+ D 1) D)))))\n",
      "  (=> a!1 (inv E F))))\n",
      "(rule (=> (and (inv D C) (= D B) (not (= C D))) fail))\n",
      "\n"
     ]
    }
   ],
   "source": [
    "# Define the values to substitute\n",
    "values = [10000, 5000]\n",
    "\n",
    "variables_to_substitute = [z3.Int(var) for var in [f\"K{val}\" for val in values]]\n",
    "#variables_to_substitute = [z3.Var(val, z3.IntSort()) for val in values]\n",
    "\n",
    "# Z3 constants for values\n",
    "const_values = [z3.IntVal(val) for val in values]\n",
    "\n",
    "# Create a dictionary for substitutions\n",
    "substitutions = [(value, var) for var, value in zip(variables_to_substitute, const_values)]\n",
    "print(f\"substitutions={substitutions}\")\n",
    "\n",
    "fp_test = z3.Fixedpoint()\n",
    "fp_test.declare_var(variables_to_substitute)\n",
    "# Substitute variables in parsed rules and queries\n",
    "s_rules = [z3.substitute(rule, substitutions) for rule in fp.get_rules()]\n",
    "# print(s_rules)\n",
    "\n",
    "\n",
    "\n",
    "#print(f\"s_rules: {s_rules}\")\n",
    "print(f\"s_rules[0]: {s_rules[0]}\")\n",
    "print(f\"s_rules[1]: {s_rules[1]}\")\n",
    "print(f\"s_rules[2]: {s_rules[2]}\")\n",
    "print(\"-----\")\n",
    "\n",
    "fp_s = z3.Fixedpoint()\n",
    "\n",
    "#l=z3.Int(fp_s.var_name(0))\n",
    "\n",
    "new_vars = [z3.IntVector(\"var\", rule.num_vars())+variables_to_substitute for rule in s_rules]\n",
    "new_bodies = [rule.body() for rule in s_rules]\n",
    "new_bodies2 = [z3.substitute_vars(body, *variables) for body, variables in zip(new_bodies, new_vars)]\n",
    "# print(f\"new_vars={new_vars}\")\n",
    "# print(f\"new_bodies2={new_bodies2}\")\n",
    "new_rules = [z3.ForAll(variables, body) for body, variables in zip(new_bodies2, new_vars)]\n",
    "\n",
    "print(f\"new_vars={new_vars}\")\n",
    "print(f\"new_rules={new_rules}\")\n",
    "\n",
    "# fp_test.add_rule(s_rules[0])\n",
    "# print(f\"fp_test: {fp_test}\")\n",
    "\n",
    "# for s_rule in s_rules:\n",
    "#     fp_s.add_rule(s_rule)\n",
    "# print(fp_s)\n",
    "# \n",
    "for s_rule in new_rules:\n",
    "    fp_s.add_rule(s_rule)\n",
    "print(fp_s)\n",
    "\n",
    "#queries[0]\n",
    "# print(fp_s.to_string(queries))\n",
    "# import chctools.horndb\n",
    "# db = load_horn_db_from_file(\"test\", simplify_queries=False)\n",
    "# db.load_from_fp(fp_s, queries)\n",
    "\n",
    "# with open('res.smt2', 'w') as f:\n",
    "#     print(fp_s.to_string(queries), file=f)  # Python 3.x"
   ]
  },
  {
   "cell_type": "code",
   "execution_count": 23,
   "metadata": {},
   "outputs": [
    {
     "name": "stdout",
     "output_type": "stream",
     "text": [
      "(declare-fun Inv2 (Int Int Int Int) Bool)\n",
      "(Inv2 x y K5000 K10000)\n",
      "(Inv x y)\n"
     ]
    },
    {
     "data": {
      "text/plain": [
       "'Inv2'"
      ]
     },
     "execution_count": 23,
     "metadata": {},
     "output_type": "execute_result"
    }
   ],
   "source": [
    "Z = z3.IntSort()\n",
    "B = z3.BoolSort()\n",
    "inv2_sorts = [Z, Z]\n",
    "vrev = list(reversed(variables_to_substitute))\n",
    "for v in vrev:\n",
    "    inv2_sorts.append(v.sort())\n",
    "inv2_sorts.append(B)\n",
    "inv2_fdecl = z3.Function(\"Inv2\", *inv2_sorts)\n",
    "print(inv2_fdecl.sexpr())\n",
    "fp_s.register_relation(inv2_fdecl)\n",
    "\n",
    "inv2_args = [x, y] + vrev\n",
    "inv2_term = inv2_fdecl(*inv2_args)\n",
    "print(inv2_term.sexpr())\n",
    "\n",
    "inv_fdecl = z3.Function('Inv', Z, Z, B)\n",
    "inv_term= inv_fdecl(x, y)\n",
    "print(inv_term.sexpr())\n",
    "\n",
    "#z3.subsitute(fml, (inv_term, inv2_term))\n",
    "inv2_term.decl().name()"
   ]
  },
  {
   "cell_type": "code",
   "execution_count": 24,
   "metadata": {},
   "outputs": [],
   "source": [
    "def find_invs(gnd_rule_body):\n",
    "    found = set()\n",
    "    def is_inv_term(e, found):\n",
    "        #print(\"Looking at \", e.sexpr())\n",
    "        if e.decl().name() == 'inv':\n",
    "            found.add(e)\n",
    "            return False\n",
    "        return True\n",
    "    \n",
    "    for_each_expr(gnd_rule_body, is_inv_term, found=found)\n",
    "    return found"
   ]
  },
  {
   "cell_type": "code",
   "execution_count": 25,
   "metadata": {},
   "outputs": [
    {
     "data": {
      "text/plain": [
       "{inv(A, B), inv(C, D)}"
      ]
     },
     "execution_count": 25,
     "metadata": {},
     "output_type": "execute_result"
    }
   ],
   "source": [
    "q, vars, body = expand_quant(s_rules[1])\n",
    "inv_terms = find_invs(body)\n",
    "inv_terms"
   ]
  },
  {
   "cell_type": "code",
   "execution_count": 26,
   "metadata": {},
   "outputs": [
    {
     "name": "stdout",
     "output_type": "stream",
     "text": [
      "(declare-fun inv2 (Int Int Int Int) Bool)\n",
      "(inv2 C D K5000 K10000)\n",
      "(declare-fun inv2 (Int Int Int Int) Bool)\n",
      "(inv2 A B K5000 K10000)\n",
      "(let ((a!1 (and (inv A B) (= C (+ A 1)) (= D (ite (>= A K5000) (+ B 1) B)))))\n",
      "  (=> a!1 (inv C D)))\n",
      "(let ((a!1 (and (inv2 A B K5000 K10000)\n",
      "                (= C (+ A 1))\n",
      "                (= D (ite (>= A K5000) (+ B 1) B)))))\n",
      "  (=> a!1 (inv2 C D K5000 K10000)))\n",
      "\n",
      "\n",
      "new_rule=Implies(And(inv2(A, B, K5000, K10000),\n",
      "            C == A + 1,\n",
      "            D == If(A >= K5000, B + 1, B)),\n",
      "        inv2(C, D, K5000, K10000))\n",
      "(declare-rel inv2 (Int Int Int Int))\n",
      "(declare-var A Int)\n",
      "(declare-var B Int)\n",
      "(declare-var C Int)\n",
      "(declare-var D Int)\n",
      "(declare-var E Int)\n",
      "(declare-var F Int)\n",
      "(rule (let ((a!1 (and (inv2 F E A B) (= D (+ F 1)) (= C (ite (>= F A) (+ E 1) E)))))\n",
      "  (=> a!1 (inv2 D C A B))))\n",
      "\n"
     ]
    }
   ],
   "source": [
    "def mk_inv2_term(inv_term, new_vars):\n",
    "    Z = z3.IntSort()\n",
    "    B = z3.BoolSort()\n",
    "    inv2_sorts = [inv_term.decl().domain(i) for i in range(inv_term.decl().arity())]\n",
    "    vrev = list(reversed(new_vars))\n",
    "    for v in vrev:\n",
    "        inv2_sorts.append(v.sort())\n",
    "    inv2_sorts.append(B)\n",
    "    inv2_fdecl = z3.Function(\"inv2\", *inv2_sorts)\n",
    "    print(inv2_fdecl.sexpr())\n",
    "    \n",
    "    inv2_args = inv_term.children() + vrev\n",
    "    inv2_term = inv2_fdecl(*inv2_args)\n",
    "    print(inv2_term.sexpr())\n",
    "    return inv2_term\n",
    "\n",
    "subs = list()\n",
    "for inv_term in inv_terms:\n",
    "    # TODO: create inv2_term for inv_term\n",
    "    inv2_term = mk_inv2_term(inv_term, variables_to_substitute)\n",
    "    subs.append((inv_term, inv2_term))\n",
    "\n",
    "new_body = z3.substitute(body, subs)\n",
    "print(body.sexpr())\n",
    "print(new_body.sexpr())\n",
    "# for every ground body, apply z3.substitute with the above subs\n",
    "new_rule = new_body\n",
    "\n",
    "print(\"\\n\")\n",
    "print(f\"new_rule={new_rule}\")\n",
    "\n",
    "fp_new = z3.Fixedpoint()\n",
    "fp_new.register_relation(z3.Function('inv2', Z, Z, Z, Z, B))\n",
    "fp_new.declare_var(*vars)\n",
    "fp_new.declare_var(*variables_to_substitute)\n",
    "fp_new.add_rule(new_rule)\n",
    "print(fp_new.sexpr())"
   ]
  },
  {
   "cell_type": "code",
   "execution_count": 27,
   "metadata": {},
   "outputs": [
    {
     "name": "stdout",
     "output_type": "stream",
     "text": [
      "[]\n",
      "None\n",
      "b=b, c=b\n"
     ]
    },
    {
     "data": {
      "text/html": [
       "b + 5"
      ],
      "text/plain": [
       "b + 5"
      ]
     },
     "execution_count": 27,
     "metadata": {},
     "output_type": "execute_result"
    }
   ],
   "source": [
    "a = z3.IntVal(100)\n",
    "b = z3.Int('b')\n",
    "c = z3.Int('b')\n",
    "print(z3.solve(b == c))\n",
    "print(f\"b={b}, c={c}\")\n",
    "e = a + 5\n",
    "s = [(a, b)]\n",
    "z3.substitute(e, s)"
   ]
  },
  {
   "cell_type": "code",
   "execution_count": 28,
   "metadata": {},
   "outputs": [
    {
     "data": {
      "text/plain": [
       "(<function z3.z3.ForAll(vs, body, weight=1, qid='', skid='', patterns=[], no_patterns=[])>,\n",
       " [N],\n",
       " Implies(5000 == N,\n",
       "         ForAll([A, B],\n",
       "                Implies(And(A == 0, B == N), inv(A, B)))))"
      ]
     },
     "execution_count": 28,
     "metadata": {},
     "output_type": "execute_result"
    }
   ],
   "source": [
    "q, v, b = expand_quant(new_init)\n",
    "q, v, b"
   ]
  },
  {
   "cell_type": "code",
   "execution_count": 29,
   "metadata": {},
   "outputs": [
    {
     "data": {
      "text/html": [
       "&forall;N : 5000 = N &rArr; (&forall;A, B : A = 0 &and; B = N &rArr; inv(A, B))"
      ],
      "text/plain": [
       "ForAll(N,\n",
       "       Implies(5000 == N,\n",
       "               ForAll([A, B],\n",
       "                      Implies(And(A == 0, B == N),\n",
       "                              inv(A, B)))))"
      ]
     },
     "execution_count": 29,
     "metadata": {},
     "output_type": "execute_result"
    }
   ],
   "source": [
    "q(v, b)"
   ]
  },
  {
   "cell_type": "code",
   "execution_count": 30,
   "metadata": {},
   "outputs": [
    {
     "data": {
      "text/plain": [
       "True"
      ]
     },
     "execution_count": 30,
     "metadata": {},
     "output_type": "execute_result"
    }
   ],
   "source": [
    "v0 = new_init.body().arg(0).arg(1)\n",
    "z3.is_var(v0)"
   ]
  },
  {
   "cell_type": "code",
   "execution_count": 31,
   "metadata": {},
   "outputs": [
    {
     "data": {
      "text/plain": [
       "False"
      ]
     },
     "execution_count": 31,
     "metadata": {},
     "output_type": "execute_result"
    }
   ],
   "source": [
    "n0 = b.arg(0).arg(1)\n",
    "z3.is_var(n0)"
   ]
  },
  {
   "cell_type": "code",
   "execution_count": 32,
   "metadata": {},
   "outputs": [
    {
     "name": "stdout",
     "output_type": "stream",
     "text": [
      "(declare-rel fail ())\n",
      "(declare-rel inv (Int Int))\n",
      "(declare-var A Int)\n",
      "(declare-var B Int)\n",
      "(declare-var C Int)\n",
      "(declare-var D Int)\n",
      "(rule (=> (and (= B 0) (= A 5000)) (inv B A)))\n",
      "(rule (let ((a!1 (and (inv D C) (= B (+ D 1)) (= A (ite (>= D 5000) (+ C 1) C)))))\n",
      "  (=> a!1 (inv B A))))\n",
      "(rule (=> (and (inv A B) (= A 10000) (not (= B A))) fail))\n",
      "\n"
     ]
    }
   ],
   "source": [
    "print(fp.sexpr())"
   ]
  },
  {
   "cell_type": "code",
   "execution_count": 33,
   "metadata": {},
   "outputs": [
    {
     "name": "stdout",
     "output_type": "stream",
     "text": [
      "(declare-fun inv (Int Int) Bool)\n",
      "(rule (forall ((N Int))\n",
      "  (let ((a!1 (forall ((A Int) (B Int))\n",
      "               (! (=> (and (= A 0) (= B N)) (inv A B)) :weight 0))))\n",
      "    (=> (= 5000 N) a!1))))\n",
      "\n"
     ]
    }
   ],
   "source": [
    "fp2 = z3.Fixedpoint()\n",
    "fp2.add_rule(new_init)\n",
    "qrs = fp2.get_rules()\n",
    "\n",
    "print(fp2)"
   ]
  }
 ],
 "metadata": {
  "kernelspec": {
   "display_name": "venv",
   "language": "python",
   "name": "python3"
  },
  "language_info": {
   "codemirror_mode": {
    "name": "ipython",
    "version": 3
   },
   "file_extension": ".py",
   "mimetype": "text/x-python",
   "name": "python",
   "nbconvert_exporter": "python",
   "pygments_lexer": "ipython3",
   "version": "3.9.5"
  },
  "orig_nbformat": 4
 },
 "nbformat": 4,
 "nbformat_minor": 2
}
