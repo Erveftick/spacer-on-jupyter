{
 "cells": [
  {
   "cell_type": "code",
   "execution_count": 1185,
   "metadata": {},
   "outputs": [],
   "source": [
    "import z3\n",
    "with open('prblm.smt2', 'r') as file:\n",
    "    code = file.read()\n",
    "\n",
    "from spacer_tutorial import *\n",
    "\n",
    "# Type of code that usually locates in prblm.smt2 file\n",
    "#  \n",
    "# code = \"\"\"\n",
    "# (declare-rel inv (Int Int ))\n",
    "# (declare-var x0 Int)\n",
    "# (declare-var x1 Int)\n",
    "# (declare-var y0 Int)\n",
    "# (declare-var y1 Int)\n",
    "# (declare-var z1 Int)\n",
    "\n",
    "# (declare-rel fail ())\n",
    "\n",
    "# (rule (=> (and (= x0 0) (= y0 5000))\n",
    "#     (inv x0 y0)))\n",
    "\n",
    "# (rule (=> (and\n",
    "#         (inv x0 y0)\n",
    "#         (= x1 (+ x0 1))\n",
    "#         (= y1 (ite (>= x0 5000) (+ y0 1) y0)))\n",
    "#     (inv x1 y1)))\n",
    "\n",
    "# (rule (=> (and (inv x0 y0) (= x0 10000)\n",
    "#     (not (= y0 x0))) fail))\n",
    "\n",
    "# (query fail)\n",
    "# \"\"\""
   ]
  },
  {
   "cell_type": "code",
   "execution_count": 1161,
   "metadata": {},
   "outputs": [
    {
     "name": "stdout",
     "output_type": "stream",
     "text": [
      "/home/ekvashyn/Code/z3/build/python/z3/__init__.py\n"
     ]
    }
   ],
   "source": [
    "import sys\n",
    "from os.path import z3\n",
    "sys.path.append(dirname(__file__))"
   ]
  },
  {
   "cell_type": "code",
   "execution_count": 1186,
   "metadata": {},
   "outputs": [],
   "source": [
    "def expand_quant(fml):\n",
    "    \"\"\" Expands quantifier into Quantifier, Variables, and Body\n",
    "    \n",
    "        The result is a triple (Q, vars, body), such that Q(vars, body) is equivalent to fml\n",
    "        All variables in body are ground (i.e., regular constants)\n",
    "    \"\"\"\n",
    "    if z3.is_quantifier(fml):\n",
    "        gnd_vars = [z3.Const(fml.var_name(i), fml.var_sort(i)) for i in range(fml.num_vars())]\n",
    "        gnd_body = z3.substitute_vars(fml.body(), *reversed(gnd_vars))\n",
    "        quant = z3.Lambda\n",
    "        if fml.is_exists():\n",
    "            quant = z3.Exists\n",
    "        elif fml.is_forall():\n",
    "            quant = z3.ForAll\n",
    "        return quant, gnd_vars, gnd_body\n",
    "    else:\n",
    "        return (lambda x, y : y), [], fml"
   ]
  },
  {
   "cell_type": "code",
   "execution_count": 1187,
   "metadata": {},
   "outputs": [],
   "source": [
    "def for_each_expr(fml, fn, *args, **kwargs):\n",
    "    \"\"\" Execute given function fn on every sub-expression \n",
    "    \n",
    "        The return value of fn is used to decided whether children should be explored\n",
    "\n",
    "        Additional arguments are passed to fn and can be used to maintain state\n",
    "    \"\"\"\n",
    "\n",
    "    do_kids = fn(fml, *args, **kwargs)\n",
    "\n",
    "    if not do_kids: return\n",
    "    for k in fml.children():\n",
    "        for_each_expr(k, fn, *args, **kwargs)"
   ]
  },
  {
   "cell_type": "code",
   "execution_count": 1188,
   "metadata": {},
   "outputs": [],
   "source": [
    "fp = z3.Fixedpoint()\n",
    "queries = fp.parse_string(code)\n",
    "fp.set('spacer.max_level', 40)\n",
    "fp.query(queries[0])\n",
    "rules = fp.get_rules()"
   ]
  },
  {
   "cell_type": "code",
   "execution_count": 1189,
   "metadata": {},
   "outputs": [],
   "source": [
    "def is_magic_num(v):\n",
    "    return z3.is_int_value(v) and v.as_long() != 0\n",
    "\n",
    "def has_comparison_operator(expr):\n",
    "    comparison_ops = [\n",
    "        z3.is_lt,\n",
    "        z3.is_le,\n",
    "        z3.is_gt,\n",
    "        z3.is_ge,\n",
    "        z3.is_eq,\n",
    "        z3.is_distinct]\n",
    "\n",
    "    if any(op(expr) for op in comparison_ops):\n",
    "        return True\n",
    "\n",
    "    return False"
   ]
  },
  {
   "cell_type": "code",
   "execution_count": 1190,
   "metadata": {},
   "outputs": [],
   "source": [
    "def find_magic_in_rule(rule):\n",
    "    q, v, b = expand_quant(rule)\n",
    "    return find_magic_in_gnd_rule(b)\n",
    "\n",
    "def find_magic_in_gnd_rule(rule):\n",
    "    myset = set()\n",
    "\n",
    "    def find_magic(x, found):\n",
    "        if has_comparison_operator(x): \n",
    "            for arg in [x.arg(0), x.arg(1)]:\n",
    "                if is_magic_num(arg):\n",
    "                    found.add(arg)\n",
    "            return False\n",
    "        else:\n",
    "            return True\n",
    "        \n",
    "    for_each_expr(rule, find_magic, found=myset)\n",
    "    return myset"
   ]
  },
  {
   "cell_type": "code",
   "execution_count": 1208,
   "metadata": {},
   "outputs": [
    {
     "name": "stdout",
     "output_type": "stream",
     "text": [
      "substitutions=[(5, K5), (10, K10)]\n",
      "upd_first_ugly_rule=And(A == 0, B == K5)\n",
      "upd_ufu_rule=[Implies(And(A == 0, B == K5, 5 == K5, 10 == K10), inv(A, B)), ForAll([A, B, C, D],\n",
      "       Implies(And(inv(A, B),\n",
      "                   C == A + 1,\n",
      "                   D == If(A >= K5, B + 1, B)),\n",
      "               inv(C, D))), ForAll([A, B],\n",
      "       Implies(And(inv(B, A), B == K10, Not(A == B)), fail))]\n"
     ]
    }
   ],
   "source": [
    "# Find the magic values to substitute\n",
    "magic_values = list(set().union(*map(find_magic_in_rule, rules)))\n",
    "\n",
    "# Z3 constants for values\n",
    "const_values = [z3.IntVal(val) for val in magic_values]\n",
    "\n",
    "# Create a variable for each magic value for substitution\n",
    "magic_values_vars = [z3.Int(f\"K{val}\") for val in magic_values]\n",
    "\n",
    "# Create a dictionary for substitutions\n",
    "substitutions = [*zip(const_values, magic_values_vars)]\n",
    "\n",
    "# Substitute variables in parsed rules and queries\n",
    "ugly_rules = [z3.substitute(rule, substitutions) for rule in fp.get_rules()]\n",
    "\n",
    "additional_condintions = [(sub_var == sub_val) for sub_val, sub_var in substitutions]\n",
    "\n",
    "ufu_q, ufu_vars, ufu_rule = expand_quant(ugly_rules[0])\n",
    "upd_ufu_rule_tail = z3.And(*ufu_rule.arg(0).children(), *additional_condintions)\n",
    "upd_ufu_rule = z3.Implies(upd_ufu_rule_tail, ufu_rule.arg(1))\n",
    "ugly_rules[0] = upd_ufu_rule"
   ]
  },
  {
   "cell_type": "code",
   "execution_count": 1192,
   "metadata": {},
   "outputs": [],
   "source": [
    "def find_invs(gnd_rule_body):\n",
    "    found = set()\n",
    "    def is_inv_term(e, found):\n",
    "        if e.decl().name() == 'inv':\n",
    "            found.add(e)\n",
    "            return False\n",
    "        return True\n",
    "    \n",
    "    for_each_expr(gnd_rule_body, is_inv_term, found=found)\n",
    "    return found"
   ]
  },
  {
   "cell_type": "code",
   "execution_count": 1193,
   "metadata": {},
   "outputs": [
    {
     "name": "stdout",
     "output_type": "stream",
     "text": [
      "(declare-rel inv2 (Int Int Int Int))\n",
      "(declare-rel fail ())\n",
      "(declare-var A Int)\n",
      "(declare-var B Int)\n",
      "(declare-var C Int)\n",
      "(declare-var D Int)\n",
      "(declare-var E Int)\n",
      "(declare-var F Int)\n",
      "(rule (=> (and (= D 0) (= C B)) (inv2 D C A B)))\n",
      "(rule (let ((a!1 (and (inv2 D C A B) (= E (+ D 1)) (= F (ite (>= D B) (+ C 1) C)))))\n",
      "  (=> a!1 (inv2 E F A B))))\n",
      "(rule (=> (and (inv2 C D A B) (= C A) (not (= D C))) fail))\n",
      "(query fail)\n",
      "\n"
     ]
    }
   ],
   "source": [
    "Z = z3.IntSort()\n",
    "B = z3.BoolSort()\n",
    "\n",
    "def mk_inv2_term(inv_term, new_vars):\n",
    "    inv2_sorts = [inv_term.decl().domain(i) for i in range(inv_term.decl().arity())]\n",
    "    vrev = list(reversed(new_vars))\n",
    "    for v in vrev:\n",
    "        inv2_sorts.append(v.sort())\n",
    "    inv2_sorts.append(B)\n",
    "    inv2_fdecl = z3.Function(\"inv2\", *inv2_sorts)\n",
    "    inv2_args = inv_term.children() + vrev\n",
    "    inv2_term = inv2_fdecl(*inv2_args)\n",
    "    return inv2_term\n",
    "\n",
    "def mk_new_rule_vars(rule):\n",
    "    q, rule_vars, rule_body = expand_quant(rule)\n",
    "    return rule_vars\n",
    "\n",
    "def mk_new_rule(rule):\n",
    "    subs = list()\n",
    "    q, rule_vars, rule_body = expand_quant(rule)\n",
    "    inv_terms = find_invs(rule_body)\n",
    "    for inv_term in inv_terms:\n",
    "        inv2_term = mk_inv2_term(inv_term, magic_values_vars)\n",
    "        subs.append((inv_term, inv2_term))\n",
    "\n",
    "    new_body = z3.substitute(rule_body, subs)\n",
    "    # for every ground body, apply z3.substitute with the above subs\n",
    "    return new_body\n",
    "\n",
    "new_ugly_rules = [*map(mk_new_rule ,ugly_rules)]\n",
    "new_ugly_vars = list(set().union(*map(mk_new_rule_vars ,ugly_rules)))\n",
    "\n",
    "fp_new = z3.Fixedpoint()\n",
    "fp_new.register_relation(z3.Function('inv2', Z, Z, Z, Z, B))\n",
    "fp_new.register_relation(z3.Function('fail', B))\n",
    "fp_new.declare_var(*new_ugly_vars)\n",
    "fp_new.declare_var(*magic_values_vars)\n",
    "for new_ugly_rule in new_ugly_rules:\n",
    "    fp_new.add_rule(new_ugly_rule)\n",
    "print(fp_new.to_string(queries))\n",
    "\n",
    "# with open('res.smt2', 'w') as f:\n",
    "#     print(fp_new.to_string(queries), file=f)"
   ]
  }
 ],
 "metadata": {
  "kernelspec": {
   "display_name": "venv",
   "language": "python",
   "name": "python3"
  },
  "language_info": {
   "codemirror_mode": {
    "name": "ipython",
    "version": 3
   },
   "file_extension": ".py",
   "mimetype": "text/x-python",
   "name": "python",
   "nbconvert_exporter": "python",
   "pygments_lexer": "ipython3",
   "version": "3.9.5"
  },
  "orig_nbformat": 4
 },
 "nbformat": 4,
 "nbformat_minor": 2
}
