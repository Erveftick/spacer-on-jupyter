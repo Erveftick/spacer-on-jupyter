{
 "cells": [
  {
   "attachments": {},
   "cell_type": "markdown",
   "metadata": {},
   "source": [
    "# Code"
   ]
  },
  {
   "cell_type": "code",
   "execution_count": 620,
   "metadata": {},
   "outputs": [],
   "source": [
    "code = \"\"\"\n",
    "(declare-rel inv (Int Int ))\n",
    "(declare-var x0 Int)\n",
    "(declare-var x1 Int)\n",
    "(declare-var y0 Int)\n",
    "(declare-var y1 Int)\n",
    "(declare-var z1 Int)\n",
    "\n",
    "(declare-rel fail ())\n",
    "\n",
    "(rule (=> (and (= x0 0) (= y0 5000))\n",
    "    (inv x0 y0)))\n",
    "\n",
    "(rule (=> (and\n",
    "        (inv x0 y0)\n",
    "        (= x1 (+ x0 1))\n",
    "        (= y1 (ite (>= x0 5000) (+ y0 1) y0)))\n",
    "    (inv x1 y1)))\n",
    "\n",
    "(rule (=> (and (inv x0 y0) (= x0 10000)\n",
    "    (not (= y0 x0))) fail))\n",
    "\n",
    "(query fail)\n",
    "\"\"\""
   ]
  },
  {
   "attachments": {},
   "cell_type": "markdown",
   "metadata": {},
   "source": [
    "# Helpers"
   ]
  },
  {
   "cell_type": "code",
   "execution_count": 621,
   "metadata": {},
   "outputs": [
    {
     "data": {
      "text/html": [
       "&forall;x : &exist;y, z : x &gt; 0 &rArr; y &gt; 1 &and; z &gt; 4"
      ],
      "text/plain": [
       "ForAll(x, Exists([y, z], Implies(x > 0, And(y > 1, z > 4))))"
      ]
     },
     "execution_count": 621,
     "metadata": {},
     "output_type": "execute_result"
    }
   ],
   "source": [
    "import z3\n",
    "import os\n",
    "import sys\n",
    "module_path = os.path.abspath(os.path.join('../../../chc-tools'))\n",
    "if module_path not in sys.path:\n",
    "    sys.path.append(module_path)\n",
    "import chctools\n",
    "\n",
    "# build some formulas for testing\n",
    "x, y, z = z3.Ints('x y z')\n",
    "phi = z3.ForAll(x, z3.Exists([y, z], z3.Implies(x > 0, z3.And(y > 1, z > 4))))\n",
    "phi"
   ]
  },
  {
   "cell_type": "code",
   "execution_count": 622,
   "metadata": {},
   "outputs": [
    {
     "data": {
      "text/html": [
       "x"
      ],
      "text/plain": [
       "x"
      ]
     },
     "execution_count": 622,
     "metadata": {},
     "output_type": "execute_result"
    }
   ],
   "source": [
    "z3.Const(phi.var_name(0), phi.var_sort(0))\n"
   ]
  },
  {
   "cell_type": "code",
   "execution_count": 623,
   "metadata": {},
   "outputs": [
    {
     "data": {
      "text/html": [
       "x &gt; 0 &rArr; y &gt; 1 &and; z &gt; 4"
      ],
      "text/plain": [
       "Implies(x > 0, And(y > 1, z > 4))"
      ]
     },
     "execution_count": 623,
     "metadata": {},
     "output_type": "execute_result"
    }
   ],
   "source": [
    "phix = z3.substitute_vars(phi.body(), x)\n",
    "z3.substitute_vars(phix.body(), *reversed([y, z]))"
   ]
  },
  {
   "cell_type": "code",
   "execution_count": 624,
   "metadata": {},
   "outputs": [
    {
     "data": {
      "text/plain": [
       "(<function z3.z3.Exists(vs, body, weight=1, qid='', skid='', patterns=[], no_patterns=[])>,\n",
       " [y, z],\n",
       " Implies(Var(2) > 0, And(y > 1, z > 4)))"
      ]
     },
     "execution_count": 624,
     "metadata": {},
     "output_type": "execute_result"
    }
   ],
   "source": [
    "def expand_quant(fml):\n",
    "    \"\"\" Expands quantifier into Quantifier, Variables, and Body\n",
    "    \n",
    "        The result is a triple (Q, vars, body), such that Q(vars, body) is equivalent to fml\n",
    "        All variables in body are ground (i.e., regular constants)\n",
    "    \"\"\"\n",
    "    if z3.is_quantifier(fml):\n",
    "        gnd_vars = [z3.Const(fml.var_name(i), fml.var_sort(i)) for i in range(fml.num_vars())]\n",
    "        gnd_body = z3.substitute_vars(fml.body(), *reversed(gnd_vars))\n",
    "        quant = z3.Lambda\n",
    "        if fml.is_exists():\n",
    "            quant = z3.Exists\n",
    "        elif fml.is_forall():\n",
    "            quant = z3.ForAll\n",
    "        return quant, gnd_vars, gnd_body\n",
    "    else:\n",
    "        return (lambda x, y : y), [], fml\n",
    "\n",
    "\n",
    "# some test\n",
    "q, v, b = expand_quant(phi.body())\n",
    "q, v, b"
   ]
  },
  {
   "cell_type": "code",
   "execution_count": 625,
   "metadata": {},
   "outputs": [
    {
     "data": {
      "text/html": [
       "&exist;y, z : &#957;<sub>2</sub> &gt; 0 &rArr; y &gt; 1 &and; z &gt; 4"
      ],
      "text/plain": [
       "Exists([y, z], Implies(Var(2) > 0, And(y > 1, z > 4)))"
      ]
     },
     "execution_count": 625,
     "metadata": {},
     "output_type": "execute_result"
    }
   ],
   "source": [
    "q(v, b)"
   ]
  },
  {
   "cell_type": "code",
   "execution_count": 626,
   "metadata": {},
   "outputs": [
    {
     "name": "stdout",
     "output_type": "stream",
     "text": [
      "{8, 10, 11, 12, 13, 14, 16, 17, 18, 19, 20}\n"
     ]
    }
   ],
   "source": [
    "def for_each_expr(fml, fn, *args, **kwargs):\n",
    "    \"\"\" Execute given function fn on every sub-expression \n",
    "    \n",
    "        The return value of fn is used to decided whether children should be explored\n",
    "\n",
    "        Additional arguments are passed to fn and can be used to maintain state\n",
    "    \"\"\"\n",
    "\n",
    "    do_kids = fn(fml, *args, **kwargs)\n",
    "\n",
    "    if not do_kids: return\n",
    "    for k in fml.children():\n",
    "        for_each_expr(k, fn, *args, **kwargs)\n",
    "\n",
    "\n",
    "# example of a function that records every expression visited\n",
    "def myfn(fml, visited):\n",
    "    visited.add(fml.get_id())\n",
    "    return True\n",
    "\n",
    "visited = set()\n",
    "for_each_expr(phi.body().body(), myfn, visited)\n",
    "print(visited)"
   ]
  },
  {
   "cell_type": "code",
   "execution_count": 627,
   "metadata": {},
   "outputs": [
    {
     "name": "stdout",
     "output_type": "stream",
     "text": [
      "{8, 10, 11, 12, 13, 14, 16, 17, 18, 19, 20}\n"
     ]
    }
   ],
   "source": [
    "# an example of a function that records every expresison visited\n",
    "# and never visits an expression more than once (i.e., caches what it visited)\n",
    "def myfn2(fml, visited):\n",
    "    if fml.get_id() in visited:\n",
    "        return False\n",
    "    \n",
    "    # visiting fml the first time\n",
    "    visited.add(fml.get_id())\n",
    "    return True\n",
    "\n",
    "visited = set()\n",
    "for_each_expr(phi.body().body(), myfn2, visited)\n",
    "print(visited)"
   ]
  },
  {
   "attachments": {},
   "cell_type": "markdown",
   "metadata": {},
   "source": [
    "# SMT parsers"
   ]
  },
  {
   "cell_type": "code",
   "execution_count": 628,
   "metadata": {},
   "outputs": [
    {
     "data": {
      "text/plain": [
       "['x0', 'x1', 'y0', 'y1', 'z1']"
      ]
     },
     "execution_count": 628,
     "metadata": {},
     "output_type": "execute_result"
    }
   ],
   "source": [
    "def find_vars(code):\n",
    "    # We will store the z3 variables in a dictionary for easy access\n",
    "    variables = {}\n",
    "\n",
    "    # Split the code into lines\n",
    "    lines = code.split(\"\\n\")\n",
    "\n",
    "    # For each line\n",
    "    for line in lines:\n",
    "        # If the line is a variable declaration\n",
    "        if line.startswith(\"(declare-var\"):\n",
    "            # Get the variable name and type\n",
    "            var_name = line.split(\" \")[1]\n",
    "            var_type = line.split(\" \")[2].replace(\")\", \"\")\n",
    "\n",
    "            # Create the z3 variable and add it to the dictionary\n",
    "            variables[var_name] = getattr(z3, var_type)(var_name)\n",
    "\n",
    "    # Return the dictionary of variables\n",
    "    return variables\n",
    "\n",
    "variables = find_vars(code)\n",
    "list(variables)\n"
   ]
  },
  {
   "attachments": {},
   "cell_type": "markdown",
   "metadata": {},
   "source": [
    "# TOOL"
   ]
  },
  {
   "cell_type": "code",
   "execution_count": 629,
   "metadata": {},
   "outputs": [
    {
     "data": {
      "text/html": [
       "<b>unknown</b>"
      ],
      "text/plain": [
       "unknown"
      ]
     },
     "execution_count": 629,
     "metadata": {},
     "output_type": "execute_result"
    }
   ],
   "source": [
    "import z3\n",
    "fp = z3.Fixedpoint()\n",
    "queries = fp.parse_string(code)\n",
    "fp.set('spacer.max_level', 40)\n",
    "fp.query(queries[0])"
   ]
  },
  {
   "cell_type": "code",
   "execution_count": 630,
   "metadata": {},
   "outputs": [
    {
     "name": "stdout",
     "output_type": "stream",
     "text": [
      "(declare-rel fail ())\n",
      "(declare-rel inv (Int Int))\n",
      "(declare-var A Int)\n",
      "(declare-var B Int)\n",
      "(declare-var C Int)\n",
      "(declare-var D Int)\n",
      "(rule (=> (and (= B 0) (= A 5000)) (inv B A)))\n",
      "(rule (let ((a!1 (and (inv D C) (= B (+ D 1)) (= A (ite (>= D 5000) (+ C 1) C)))))\n",
      "  (=> a!1 (inv B A))))\n",
      "(rule (=> (and (inv A B) (= A 10000) (not (= B A))) fail))\n",
      "(query fail)\n",
      "\n"
     ]
    }
   ],
   "source": [
    "print(fp.to_string(queries))"
   ]
  },
  {
   "cell_type": "code",
   "execution_count": 631,
   "metadata": {},
   "outputs": [
    {
     "data": {
      "text/html": [
       "&forall;A, B : A = 0 &and; B = 5000 &rArr; inv(A, B)"
      ],
      "text/plain": [
       "ForAll([A, B], Implies(And(A == 0, B == 5000), inv(A, B)))"
      ]
     },
     "execution_count": 631,
     "metadata": {},
     "output_type": "execute_result"
    }
   ],
   "source": [
    "rules = fp.get_rules()\n",
    "rules[0]"
   ]
  },
  {
   "cell_type": "code",
   "execution_count": 632,
   "metadata": {},
   "outputs": [
    {
     "data": {
      "text/html": [
       "[&forall;A, B : A = 0 &and; B = 5000 &rArr; inv(A, B),\n",
       " &forall;A, B, C, D :\n",
       "  inv(A, B) &and; C = A + 1 &and; D = If(A &ge; 5000, B + 1, B) &rArr;\n",
       "  inv(C, D),\n",
       " &forall;A, B : inv(B, A) &and; B = 10000 &and; &not;(A = B) &rArr; fail]"
      ],
      "text/plain": [
       "[ForAll([A, B], Implies(And(A == 0, B == 5000), inv(A, B))),\n",
       " ForAll([A, B, C, D],\n",
       "        Implies(And(inv(A, B),\n",
       "                    C == A + 1,\n",
       "                    D == If(A >= 5000, B + 1, B)),\n",
       "                inv(C, D))),\n",
       " ForAll([A, B],\n",
       "        Implies(And(inv(B, A), B == 10000, Not(A == B)),\n",
       "                fail))]"
      ]
     },
     "execution_count": 632,
     "metadata": {},
     "output_type": "execute_result"
    }
   ],
   "source": [
    "rules"
   ]
  },
  {
   "cell_type": "code",
   "execution_count": 633,
   "metadata": {},
   "outputs": [
    {
     "data": {
      "text/plain": [
       "(ForAll([A, B], Implies(And(A == 0, B == 5000), inv(A, B))),\n",
       " '(=> (and (= (:var 1) 0) (= (:var 0) 5000)) (inv (:var 1) (:var 0)))',\n",
       " ['(and (= (:var 1) 0) (= (:var 0) 5000))', '(inv (:var 1) (:var 0))'])"
      ]
     },
     "execution_count": 633,
     "metadata": {},
     "output_type": "execute_result"
    }
   ],
   "source": [
    "r = rules[0]\n",
    "r, r.body().sexpr(), [x.sexpr() for x in r.body().children()]"
   ]
  },
  {
   "cell_type": "code",
   "execution_count": 634,
   "metadata": {},
   "outputs": [
    {
     "data": {
      "text/plain": [
       "(True, 5000, '5000')"
      ]
     },
     "execution_count": 634,
     "metadata": {},
     "output_type": "execute_result"
    }
   ],
   "source": [
    "num = r.body().arg(0).arg(1).arg(1)\n",
    "z3.is_int(num), num.as_long(), num.as_string()"
   ]
  },
  {
   "cell_type": "code",
   "execution_count": null,
   "metadata": {},
   "outputs": [],
   "source": []
  },
  {
   "cell_type": "code",
   "execution_count": 635,
   "metadata": {},
   "outputs": [
    {
     "name": "stdout",
     "output_type": "stream",
     "text": [
      "rule=ForAll([A, B], Implies(And(A == 0, B == 5000), inv(A, B))),\n",
      " rl=Implies(And(Var(1) == 0, Var(0) == 5000),\n",
      "        inv(Var(1), Var(0))) \n",
      "\n",
      "\n",
      "rule=ForAll([A, B, C, D],\n",
      "       Implies(And(inv(A, B),\n",
      "                   C == A + 1,\n",
      "                   D == If(A >= 5000, B + 1, B)),\n",
      "               inv(C, D))),\n",
      " rl=Implies(And(inv(Var(3), Var(2)),\n",
      "            Var(1) == Var(3) + 1,\n",
      "            Var(0) == If(Var(3) >= 5000, Var(2) + 1, Var(2))),\n",
      "        inv(Var(1), Var(0))) \n",
      "\n",
      "\n",
      "rule=ForAll([A, B],\n",
      "       Implies(And(inv(B, A), B == 10000, Not(A == B)),\n",
      "               fail)),\n",
      " rl=Implies(And(inv(Var(0), Var(1)),\n",
      "            Var(0) == 10000,\n",
      "            Not(Var(1) == Var(0))),\n",
      "        fail) \n",
      "\n",
      "\n"
     ]
    }
   ],
   "source": [
    "for rule in rules:\n",
    "    rl = rule.body()\n",
    "    # rl2 = z3.substitute(rl, (var(1), )\n",
    "    print(f\"rule={rule},\\n rl={rl} \\n\\n\")"
   ]
  },
  {
   "cell_type": "code",
   "execution_count": 636,
   "metadata": {},
   "outputs": [
    {
     "data": {
      "text/html": [
       "&forall;N : 5000 = N &rArr; (&forall;A, B : A = 0 &and; B = N &rArr; inv(A, B))"
      ],
      "text/plain": [
       "ForAll(N,\n",
       "       Implies(5000 == N,\n",
       "               ForAll([A, B],\n",
       "                      Implies(And(A == 0, B == N),\n",
       "                              inv(A, B)))))"
      ]
     },
     "execution_count": 636,
     "metadata": {},
     "output_type": "execute_result"
    }
   ],
   "source": [
    "N = z3.Int(\"N\")\n",
    "new_init = z3.ForAll(N, z3.Implies(N == num, z3.substitute(r, (num, N))))\n",
    "new_init"
   ]
  },
  {
   "cell_type": "code",
   "execution_count": 637,
   "metadata": {},
   "outputs": [
    {
     "name": "stdout",
     "output_type": "stream",
     "text": [
      "[A, B]\n",
      "[A, B, N]\n"
     ]
    },
    {
     "data": {
      "text/html": [
       "&forall;A, B, N : 5000 = N &rArr; (A = 0 &and; B = N &rArr; inv(A, B))"
      ],
      "text/plain": [
       "ForAll([A, B, N],\n",
       "       Implies(5000 == N,\n",
       "               Implies(And(A == 0, B == N), inv(A, B))))"
      ]
     },
     "execution_count": 637,
     "metadata": {},
     "output_type": "execute_result"
    }
   ],
   "source": [
    "q, vars, gnd_body = expand_quant(r)\n",
    "gnd_body = z3.Implies(N == num, z3.substitute(gnd_body, (num, N)))\n",
    "gnd_body\n",
    "print(vars)\n",
    "print(vars + [N])\n",
    "q(vars + [N], gnd_body)\n"
   ]
  },
  {
   "cell_type": "code",
   "execution_count": 638,
   "metadata": {},
   "outputs": [
    {
     "data": {
      "text/html": [
       "5000 = &#957;<sub>0</sub> &rArr; (&forall;A, B : A = 0 &and; B = &#957;<sub>2</sub> &rArr; inv(A, B))"
      ],
      "text/plain": [
       "Implies(5000 == Var(0),\n",
       "        ForAll([A, B],\n",
       "               Implies(And(A == 0, B == Var(2)), inv(A, B))))"
      ]
     },
     "execution_count": 638,
     "metadata": {},
     "output_type": "execute_result"
    }
   ],
   "source": [
    "new_init.body()"
   ]
  },
  {
   "cell_type": "code",
   "execution_count": 639,
   "metadata": {},
   "outputs": [],
   "source": [
    "def is_magic_num(v):\n",
    "    return z3.is_int_value(v) and v.as_long() != 0\n",
    "\n",
    "def has_comparison_operator(expr):\n",
    "    comparison_ops = [\n",
    "        z3.is_lt,\n",
    "        z3.is_le,\n",
    "        z3.is_gt,\n",
    "        z3.is_ge,\n",
    "        z3.is_eq,\n",
    "        z3.is_distinct,\n",
    "    ]\n",
    "\n",
    "    if any(op(expr) for op in comparison_ops):\n",
    "        return True\n",
    "\n",
    "    return False"
   ]
  },
  {
   "cell_type": "code",
   "execution_count": 640,
   "metadata": {},
   "outputs": [],
   "source": [
    "def find_magic_in_rule(rule):\n",
    "    q, v, b = expand_quant(rule)\n",
    "    return find_magic_in_gnd_rule(b)\n",
    "\n",
    "def find_magic_in_gnd_rule(rule):\n",
    "    myset = set()\n",
    "\n",
    "    def find_magic(x, found):\n",
    "        if has_comparison_operator(x): \n",
    "            f_arg = x.arg(0)\n",
    "            s_arg = x.arg(1)\n",
    "\n",
    "            if is_magic_num(f_arg):\n",
    "                found.add(f_arg)\n",
    "            if is_magic_num(s_arg):\n",
    "                found.add(s_arg)\n",
    "\n",
    "            return False\n",
    "        else:\n",
    "            return True\n",
    "        \n",
    "    for_each_expr(rule, find_magic, found=myset)\n",
    "    return myset"
   ]
  },
  {
   "cell_type": "code",
   "execution_count": 641,
   "metadata": {},
   "outputs": [
    {
     "data": {
      "text/plain": [
       "{10000, 5000}"
      ]
     },
     "execution_count": 641,
     "metadata": {},
     "output_type": "execute_result"
    }
   ],
   "source": [
    "[s1, s2, s3] = map(find_magic_in_rule, rules)\n",
    "s1.union(s2, s3)"
   ]
  },
  {
   "cell_type": "code",
   "execution_count": 647,
   "metadata": {},
   "outputs": [
    {
     "ename": "ModuleNotFoundError",
     "evalue": "No module named 'pysmt'",
     "output_type": "error",
     "traceback": [
      "\u001b[0;31m---------------------------------------------------------------------------\u001b[0m",
      "\u001b[0;31mModuleNotFoundError\u001b[0m                       Traceback (most recent call last)",
      "Cell \u001b[0;32mIn[647], line 30\u001b[0m\n\u001b[1;32m     26\u001b[0m     fp_s\u001b[39m.\u001b[39madd_rule(s_rule)\n\u001b[1;32m     27\u001b[0m \u001b[39m#print(fp_s)\u001b[39;00m\n\u001b[1;32m     28\u001b[0m \u001b[39m#queries[0]\u001b[39;00m\n\u001b[1;32m     29\u001b[0m \u001b[39m# print(fp_s.to_string(queries))\u001b[39;00m\n\u001b[0;32m---> 30\u001b[0m \u001b[39mimport\u001b[39;00m \u001b[39mchctools\u001b[39;00m\u001b[39m.\u001b[39;00m\u001b[39mhorndb\u001b[39;00m\n\u001b[1;32m     31\u001b[0m db \u001b[39m=\u001b[39m load_horn_db_from_file(\u001b[39m\"\u001b[39m\u001b[39mtest\u001b[39m\u001b[39m\"\u001b[39m, simplify_queries\u001b[39m=\u001b[39m\u001b[39mFalse\u001b[39;00m)\n\u001b[1;32m     32\u001b[0m db\u001b[39m.\u001b[39mload_from_fp(fp_s, queries)\n",
      "File \u001b[0;32m~/Code/chc-tools/chctools/horndb.py:4\u001b[0m\n\u001b[1;32m      1\u001b[0m \u001b[39mimport\u001b[39;00m \u001b[39mio\u001b[39;00m\n\u001b[1;32m      2\u001b[0m \u001b[39mimport\u001b[39;00m \u001b[39msys\u001b[39;00m\n\u001b[0;32m----> 4\u001b[0m \u001b[39mimport\u001b[39;00m \u001b[39mpysmt\u001b[39;00m\u001b[39m.\u001b[39;00m\u001b[39menvironment\u001b[39;00m  \u001b[39m# type: ignore\u001b[39;00m\n\u001b[1;32m      5\u001b[0m \u001b[39mimport\u001b[39;00m \u001b[39mpysmt\u001b[39;00m\u001b[39m.\u001b[39;00m\u001b[39msolvers\u001b[39;00m\u001b[39m.\u001b[39;00m\u001b[39mz3\u001b[39;00m \u001b[39mas\u001b[39;00m \u001b[39mpyz3\u001b[39;00m  \u001b[39m# type: ignore\u001b[39;00m\n\u001b[1;32m      6\u001b[0m \u001b[39mimport\u001b[39;00m \u001b[39mz3\u001b[39;00m  \u001b[39m# type: ignore\u001b[39;00m\n",
      "\u001b[0;31mModuleNotFoundError\u001b[0m: No module named 'pysmt'"
     ]
    }
   ],
   "source": [
    "# Define the values to substitute\n",
    "values = [10000, 5000]  # values to substitute\n",
    "\n",
    "variables_to_substitute = [f\"var{val}\" for val in values]\n",
    "\n",
    "# Create Z3 constants for your values\n",
    "const_values = [z3.IntVal(val) for val in values]\n",
    "\n",
    "# Make sure the lengths match to avoid errors\n",
    "# assert len(variables_to_substitute) == len(values)\n",
    "\n",
    "variables_to_substitute\n",
    "\n",
    "# Create a dictionary for substitutions\n",
    "substitutions = [(value, z3.Int(var)) for var, value in zip(variables_to_substitute, const_values)]\n",
    "# print(f\"substitutions={substitutions}\")\n",
    "\n",
    "\n",
    "# Substitute variables in parsed rules and queries\n",
    "s_rules = [z3.substitute(rule, substitutions) for rule in fp.get_rules()]\n",
    "# print(s_rules)\n",
    "\n",
    "fp_s = z3.Fixedpoint()\n",
    "\n",
    "for s_rule in s_rules:\n",
    "    fp_s.add_rule(s_rule)\n",
    "#print(fp_s)\n",
    "#queries[0]\n",
    "# print(fp_s.to_string(queries))\n",
    "import chctools.horndb\n",
    "db = load_horn_db_from_file(\"test\", simplify_queries=False)\n",
    "db.load_from_fp(fp_s, queries)\n",
    "\n",
    "# with open('res.smt2', 'w') as f:\n",
    "#     print(fp_s.to_string(queries), file=f)  # Python 3.x"
   ]
  },
  {
   "cell_type": "code",
   "execution_count": null,
   "metadata": {},
   "outputs": [
    {
     "data": {
      "text/html": [
       "b + 5"
      ],
      "text/plain": [
       "b + 5"
      ]
     },
     "execution_count": 613,
     "metadata": {},
     "output_type": "execute_result"
    }
   ],
   "source": [
    "a = z3.IntVal(100)\n",
    "b = z3.Int('b')\n",
    "e = a + 5\n",
    "s = [(a, b)]\n",
    "z3.substitute(e, s)"
   ]
  },
  {
   "cell_type": "code",
   "execution_count": null,
   "metadata": {},
   "outputs": [
    {
     "data": {
      "text/plain": [
       "(<function z3.z3.ForAll(vs, body, weight=1, qid='', skid='', patterns=[], no_patterns=[])>,\n",
       " [N],\n",
       " Implies(5000 == N,\n",
       "         ForAll([A, B],\n",
       "                Implies(And(A == 0, B == N), inv(A, B)))))"
      ]
     },
     "execution_count": 614,
     "metadata": {},
     "output_type": "execute_result"
    }
   ],
   "source": [
    "q, v, b = expand_quant(new_init)\n",
    "q, v, b"
   ]
  },
  {
   "cell_type": "code",
   "execution_count": null,
   "metadata": {},
   "outputs": [
    {
     "data": {
      "text/html": [
       "&forall;N : 5000 = N &rArr; (&forall;A, B : A = 0 &and; B = N &rArr; inv(A, B))"
      ],
      "text/plain": [
       "ForAll(N,\n",
       "       Implies(5000 == N,\n",
       "               ForAll([A, B],\n",
       "                      Implies(And(A == 0, B == N),\n",
       "                              inv(A, B)))))"
      ]
     },
     "execution_count": 615,
     "metadata": {},
     "output_type": "execute_result"
    }
   ],
   "source": [
    "q(v, b)"
   ]
  },
  {
   "cell_type": "code",
   "execution_count": null,
   "metadata": {},
   "outputs": [
    {
     "data": {
      "text/plain": [
       "True"
      ]
     },
     "execution_count": 616,
     "metadata": {},
     "output_type": "execute_result"
    }
   ],
   "source": [
    "v0 = new_init.body().arg(0).arg(1)\n",
    "z3.is_var(v0)"
   ]
  },
  {
   "cell_type": "code",
   "execution_count": null,
   "metadata": {},
   "outputs": [
    {
     "data": {
      "text/plain": [
       "False"
      ]
     },
     "execution_count": 617,
     "metadata": {},
     "output_type": "execute_result"
    }
   ],
   "source": [
    "n0 = b.arg(0).arg(1)\n",
    "z3.is_var(n0)"
   ]
  },
  {
   "cell_type": "code",
   "execution_count": null,
   "metadata": {},
   "outputs": [
    {
     "name": "stdout",
     "output_type": "stream",
     "text": [
      "(declare-rel fail ())\n",
      "(declare-rel inv (Int Int))\n",
      "(declare-var A Int)\n",
      "(declare-var B Int)\n",
      "(declare-var C Int)\n",
      "(declare-var D Int)\n",
      "(rule (=> (and (= B 0) (= A 5000)) (inv B A)))\n",
      "(rule (let ((a!1 (and (inv D C) (= B (+ D 1)) (= A (ite (>= D 5000) (+ C 1) C)))))\n",
      "  (=> a!1 (inv B A))))\n",
      "(rule (=> (and (inv A B) (= A 10000) (not (= B A))) fail))\n",
      "\n"
     ]
    }
   ],
   "source": [
    "print(fp.sexpr())"
   ]
  },
  {
   "cell_type": "code",
   "execution_count": null,
   "metadata": {},
   "outputs": [
    {
     "name": "stdout",
     "output_type": "stream",
     "text": [
      "(declare-fun inv (Int Int) Bool)\n",
      "(rule (forall ((N Int))\n",
      "  (let ((a!1 (forall ((A Int) (B Int))\n",
      "               (! (=> (and (= A 0) (= B N)) (inv A B)) :weight 0))))\n",
      "    (=> (= 5000 N) a!1))))\n",
      "\n"
     ]
    }
   ],
   "source": [
    "fp2 = z3.Fixedpoint()\n",
    "fp2.add_rule(new_init)\n",
    "qrs = fp2.get_rules()\n",
    "\n",
    "print(fp2)"
   ]
  }
 ],
 "metadata": {
  "kernelspec": {
   "display_name": "venv",
   "language": "python",
   "name": "python3"
  },
  "language_info": {
   "codemirror_mode": {
    "name": "ipython",
    "version": 3
   },
   "file_extension": ".py",
   "mimetype": "text/x-python",
   "name": "python",
   "nbconvert_exporter": "python",
   "pygments_lexer": "ipython3",
   "version": "3.9.5"
  },
  "orig_nbformat": 4
 },
 "nbformat": 4,
 "nbformat_minor": 2
}
