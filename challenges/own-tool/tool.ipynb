{
 "cells": [
  {
   "cell_type": "code",
   "execution_count": 1,
   "metadata": {},
   "outputs": [],
   "source": [
    "code = \"\"\"\n",
    "(declare-rel inv (Int Int ))\n",
    "(declare-var x0 Int)\n",
    "(declare-var x1 Int)\n",
    "(declare-var y0 Int)\n",
    "(declare-var y1 Int)\n",
    "(declare-var z1 Int)\n",
    "\n",
    "(declare-rel fail ())\n",
    "\n",
    "(rule (=> (and (= x0 0) (= y0 5000))\n",
    "    (inv x0 y0)))\n",
    "\n",
    "(rule (=> (and\n",
    "        (inv x0 y0)\n",
    "        (= x1 (+ x0 1))\n",
    "        (= y1 (ite (>= x0 5000) (+ y0 1) y0)))\n",
    "    (inv x1 y1)))\n",
    "\n",
    "(rule (=> (and (inv x0 y0) (= x0 10000)\n",
    "    (not (= y0 x0))) fail))\n",
    "\n",
    "(query fail)\n",
    "\"\"\""
   ]
  },
  {
   "cell_type": "code",
   "execution_count": 2,
   "metadata": {},
   "outputs": [
    {
     "data": {
      "text/html": [
       "<b>unknown</b>"
      ],
      "text/plain": [
       "unknown"
      ]
     },
     "execution_count": 2,
     "metadata": {},
     "output_type": "execute_result"
    }
   ],
   "source": [
    "import z3\n",
    "fp = z3.Fixedpoint()\n",
    "queries = fp.parse_string(code)\n",
    "fp.set('spacer.max_level', 40)\n",
    "fp.query(queries[0])"
   ]
  },
  {
   "cell_type": "code",
   "execution_count": 3,
   "metadata": {},
   "outputs": [
    {
     "ename": "SyntaxError",
     "evalue": "invalid syntax (4050868349.py, line 18)",
     "output_type": "error",
     "traceback": [
      "\u001b[0;36m  Cell \u001b[0;32mIn[3], line 18\u001b[0;36m\u001b[0m\n\u001b[0;31m    ast = AstNode(\"+\", [AstNode(\"7\"), ast0, ast0])]])\u001b[0m\n\u001b[0m    ^\u001b[0m\n\u001b[0;31mSyntaxError\u001b[0m\u001b[0;31m:\u001b[0m invalid syntax\n"
     ]
    }
   ],
   "source": [
    "class AstNode:\n",
    "     \n",
    "    def __init__(self, op, kids=None):\n",
    "        self.op = op\n",
    "\n",
    "        if kids is not None:\n",
    "            self.children = kids\n",
    "\n",
    "    def add(self, arg):\n",
    "        self.children.append(arg)\n",
    "\n",
    "    def get_arg(i):\n",
    "        return self.children[i]\n",
    "    \n",
    "\n",
    "# parse 7 + (2 + 3) + (2 + 3)\n",
    "ast0 = AstNode(\"+\", [AstNode(\"2\"), AstNode(\"3\")\n",
    "ast = AstNode(\"+\", [AstNode(\"7\"), ast0, ast0])]])\n",
    "\n",
    "        \n"
   ]
  },
  {
   "cell_type": "code",
   "execution_count": null,
   "metadata": {},
   "outputs": [
    {
     "name": "stdout",
     "output_type": "stream",
     "text": [
      "(declare-rel fail ())\n",
      "(declare-rel inv (Int Int))\n",
      "(declare-var A Int)\n",
      "(declare-var B Int)\n",
      "(declare-var C Int)\n",
      "(declare-var D Int)\n",
      "(rule (=> (and (= B 0) (= A 5000)) (inv B A)))\n",
      "(rule (let ((a!1 (and (inv D C) (= B (+ D 1)) (= A (ite (>= D 5000) (+ C 1) C)))))\n",
      "  (=> a!1 (inv B A))))\n",
      "(rule (=> (and (inv A B) (= A 10000) (not (= B A))) fail))\n",
      "(query fail)\n",
      "\n"
     ]
    }
   ],
   "source": [
    "print(fp.to_string(queries))"
   ]
  },
  {
   "cell_type": "code",
   "execution_count": null,
   "metadata": {},
   "outputs": [
    {
     "data": {
      "text/html": [
       "&forall;x0, y0 : x0 = 0 &and; y0 = 5000 &rArr; inv(x0, y0)"
      ],
      "text/plain": [
       "ForAll([x0, y0],\n",
       "       Implies(And(x0 == 0, y0 == 5000), inv(x0, y0)))"
      ]
     },
     "execution_count": 39,
     "metadata": {},
     "output_type": "execute_result"
    }
   ],
   "source": [
    "rules = fp.get_rules()\n",
    "rules[0]"
   ]
  },
  {
   "cell_type": "code",
   "execution_count": null,
   "metadata": {},
   "outputs": [
    {
     "data": {
      "text/plain": [
       "('(=> (and (= (:var 1) 0) (= (:var 0) 5000)) (inv (:var 1) (:var 0)))',\n",
       " ['(and (= (:var 1) 0) (= (:var 0) 5000))', '(inv (:var 1) (:var 0))'])"
      ]
     },
     "execution_count": 47,
     "metadata": {},
     "output_type": "execute_result"
    }
   ],
   "source": [
    "r = rules[0]\n",
    "r.body().sexpr(), [x.sexpr() for x in r.body().children()]"
   ]
  },
  {
   "cell_type": "code",
   "execution_count": null,
   "metadata": {},
   "outputs": [],
   "source": [
    "num = r.body().arg(0).arg(1).arg(1)"
   ]
  },
  {
   "cell_type": "code",
   "execution_count": null,
   "metadata": {},
   "outputs": [
    {
     "data": {
      "text/plain": [
       "(True, 5000, '5000')"
      ]
     },
     "execution_count": 53,
     "metadata": {},
     "output_type": "execute_result"
    }
   ],
   "source": [
    "z3.is_int(num), num.as_long(), num.as_string()"
   ]
  },
  {
   "cell_type": "code",
   "execution_count": null,
   "metadata": {},
   "outputs": [
    {
     "data": {
      "text/html": [
       "&forall;N : 5000 = N &rArr; (&forall;x0, y0 : x0 = 0 &and; y0 = N &rArr; inv(x0, y0))"
      ],
      "text/plain": [
       "ForAll(N,\n",
       "       Implies(5000 == N,\n",
       "               ForAll([x0, y0],\n",
       "                      Implies(And(x0 == 0, y0 == N),\n",
       "                              inv(x0, y0)))))"
      ]
     },
     "execution_count": 59,
     "metadata": {},
     "output_type": "execute_result"
    }
   ],
   "source": [
    "N = z3.Int(\"N\")\n",
    "z3.ForAll(N, z3.Implies(N == num, z3.substitute(r, (num, N))))"
   ]
  },
  {
   "cell_type": "code",
   "execution_count": null,
   "metadata": {},
   "outputs": [],
   "source": [
    "fp2 = z3.Fixedpoint()\n",
    "fp2.add_rule(...)\n",
    "fp2.query()"
   ]
  },
  {
   "cell_type": "code",
   "execution_count": null,
   "metadata": {},
   "outputs": [],
   "source": [
    "from pyparsing import *\n",
    "\n",
    "def find_magic_numbers(code):\n",
    "    # Определение операций\n",
    "    comparison_ops = oneOf(\">= <= > < =\")\n",
    "    arithmetic_ops = oneOf(\"+ - * /\")\n",
    "\n",
    "    # Определение числа\n",
    "    integer = Word(nums).setParseAction(lambda t: int(t[0]))\n",
    "\n",
    "    # Определение выражений\n",
    "    comparison_expr = Group(comparison_ops + integer + integer)\n",
    "    arithmetic_expr = Group(arithmetic_ops + integer + integer)\n",
    "\n",
    "    # Список для хранения магических чисел\n",
    "    magic_numbers = []\n",
    "\n",
    "    # Извлекаем все арифметические выражения\n",
    "    for tokens, start, end in arithmetic_expr.scanString(code):\n",
    "        for token in tokens:\n",
    "            if isinstance(token, int):\n",
    "                magic_numbers.append(token)\n",
    "\n",
    "    # Извлекаем все числа из выражений сравнения\n",
    "    comparison_numbers = []\n",
    "    for tokens, start, end in comparison_expr.scanString(code):\n",
    "        for token in tokens:\n",
    "            if isinstance(token, int):\n",
    "                comparison_numbers.append(token)\n",
    "\n",
    "    # Удаляем числа из выражений сравнения из списка магических чисел\n",
    "    fin_magic_numbers = [num for num in magic_numbers if num not in comparison_numbers]\n",
    "\n",
    "    return [fin_magic_numbers, magic_numbers, comparison_numbers]\n"
   ]
  },
  {
   "cell_type": "code",
   "execution_count": null,
   "metadata": {},
   "outputs": [
    {
     "data": {
      "text/plain": [
       "[[[], [], []],\n",
       " [[], [], []],\n",
       " [[], [], []],\n",
       " [[], [], []],\n",
       " [[], [], []],\n",
       " [[], [], []],\n",
       " [[], [], []],\n",
       " [[], [], []],\n",
       " [[], [], []],\n",
       " [[], [], []],\n",
       " [[], [], []],\n",
       " [[], [], []],\n",
       " [[], [], []],\n",
       " [[], [], []],\n",
       " [[], [], []],\n",
       " [[], [], []],\n",
       " [[], [], []],\n",
       " [[], [], []]]"
      ]
     },
     "execution_count": 27,
     "metadata": {},
     "output_type": "execute_result"
    }
   ],
   "source": [
    "import re\n",
    "\n",
    "def collect_sexpressions(code):\n",
    "    sexpressions = re.findall(r'\\([^()]*\\)', code)\n",
    "    nested_sexpressions = []\n",
    "\n",
    "    for sexpr in sexpressions:\n",
    "        nested_sexpressions.extend(collect_sexpressions(sexpr[1:-1]))\n",
    "\n",
    "    sexpressions.extend(nested_sexpressions)\n",
    "    return sexpressions\n",
    "\n",
    "sexpressions = collect_sexpressions(code)\n",
    "# for sexpr in sexpressions:\n",
    "#     print(sexpr)\n",
    "\n",
    "list(map(find_magic_numbers, sexpressions))\n"
   ]
  },
  {
   "cell_type": "code",
   "execution_count": null,
   "metadata": {},
   "outputs": [
    {
     "name": "stdout",
     "output_type": "stream",
     "text": [
      "{0, 10000, 5000}\n",
      "\n",
      "(declare-rel inv (Int Int ))\n",
      "(declare-var xvar0 Int)\n",
      "(declare-var x1 Int)\n",
      "(declare-var yvar0 Int)\n",
      "(declare-var y1 Int)\n",
      "\n",
      "(declare-rel fail ())\n",
      "\n",
      "(rule (=> (and (= xvar0 var0) (= yvar0 5var0var0var0))\n",
      "    (inv xvar0 yvar0)))\n",
      "\n",
      "(rule (=> (and\n",
      "        (inv xvar0 yvar0)\n",
      "        (= x1 (+ xvar0 1))\n",
      "        (= y1 (ite (>= xvar0 5var0var0var0) (+ yvar0 1) yvar0)))\n",
      "    (inv x1 y1)))\n",
      "\n",
      "(rule (=> (and (inv xvar0 yvar0) (= xvar0 1var0var0var0var0)\n",
      "    (not (= yvar0 xvar0))) fail))\n",
      "\n",
      "(query fail)\n",
      "\n"
     ]
    }
   ],
   "source": [
    "import re\n",
    "\n",
    "def find_magic_numbers(code):\n",
    "    pattern = r'\\(\\s*[=<>]+\\s*\\w+\\s+(-?\\d+)\\s*\\)'\n",
    "    matches = re.findall(pattern, code)\n",
    "    magic_numbers = {int(num) for num in matches}\n",
    "    return magic_numbers\n",
    "\n",
    "print(find_magic_numbers(code))  # Output: {0, 5000, 10000}\n",
    "\n",
    "def replace_magic_numbers_with_variables(code, magic_numbers):\n",
    "    for i, num in enumerate(magic_numbers):\n",
    "        variable = f'var{i}'  # create a new variable for each magic number\n",
    "        pattern = f'({variable} {num})'\n",
    "        code = code.replace(str(num), variable)\n",
    "    return code\n",
    "\n",
    "magic_numbers = find_magic_numbers(code)\n",
    "new_code = replace_magic_numbers_with_variables(code, magic_numbers)\n",
    "\n",
    "print(new_code)\n",
    "\n",
    "with open('res.smt2', 'w') as f:\n",
    "    print(new_code, file=f)\n"
   ]
  },
  {
   "cell_type": "code",
   "execution_count": null,
   "metadata": {},
   "outputs": [],
   "source": [
    "import z3\n",
    "\n",
    "# build some formulas for testing\n",
    "x, y, z = z3.Ints('x y z')\n",
    "phi = z3.ForAll(x, z3.Exists([y, z], z3.Implies(x> 0, z3.And(y>1, z>4))))\n",
    "phi\n",
    "z3.Const(phi.var_name(0), phi.var_sort(0))\n",
    "\n",
    "phix = z3.substitute_vars(phi.body(), x)\n",
    "z3.substitute_vars(phix.body(), *reversed([y, z]))\n",
    "\n",
    "\n",
    "def expand_quant(fml):\n",
    "    \"\"\" Expands quantifier into Quantifier, Variables, and Body\n",
    "    \n",
    "        The result is a triple (Q, vars, body), such that Q(vars, body) is equivalent to fml\n",
    "        All variables in body are ground (i.e., regular constants)\n",
    "    \"\"\"\n",
    "    if z3.is_quantifier(fml):\n",
    "        gnd_vars = [z3.Const(fml.var_name(i), fml.var_sort(i)) for i in range(fml.num_vars())]\n",
    "        gnd_body = z3.substitute_vars(fml.body(), *reversed(gnd_vars))\n",
    "        quant = z3.Lambda\n",
    "        if fml.is_exists():\n",
    "            quant = z3.Exists\n",
    "        elif fml.is_forall():\n",
    "            quant = z3.ForAll\n",
    "        return quant, gnd_vars, gnd_body\n",
    "    else:\n",
    "        return (lambda x, y : y), [], fml\n",
    "\n",
    "\n",
    "# some test\n",
    "q, v, b = expand_quant(phi.body())\n",
    "q, v, b\n",
    "q(v, b)\n",
    "\n",
    "def for_each_expr(fml, fn, *args, **kwargs):\n",
    "    \"\"\" Execute given function fn on every sub-expression \n",
    "    \n",
    "        The return value of fn is used to decided whether children should be explored\n",
    "\n",
    "        Additional arguments are passed to fn and can be used to maintain state\n",
    "    \"\"\"\n",
    "\n",
    "    do_kids = fn(fml, *args, **kwargs)\n",
    "\n",
    "    if not do_kids: return\n",
    "    for k in fml.children():\n",
    "        for_each_expr(k, fn, *args, **kwargs)\n",
    "\n",
    "\n",
    "# example of a function that records every expression visited\n",
    "def myfn(fml, visited):\n",
    "    visited.add(fml.get_id())\n",
    "    return True\n",
    "\n",
    "visited = set()\n",
    "for_each_expr(phi.body().body(), myfn, visited)\n",
    "print(visited)\n",
    "\n",
    "# an example of a function that records every expresison visited\n",
    "# and never visits an expression more than once (i.e., caches what it visited)\n",
    "def myfn2(fml, visited):\n",
    "    if fml.get_id() in visited:\n",
    "        return False\n",
    "    \n",
    "    # visiting fml the first time\n",
    "    visited.add(fml.get_id())\n",
    "    return True\n",
    "\n",
    "visited = set()\n",
    "for_each_expr(phi.body().body(), myfn2, visited)\n",
    "print(visited)"
   ]
  }
 ],
 "metadata": {
  "kernelspec": {
   "display_name": "venv",
   "language": "python",
   "name": "python3"
  },
  "language_info": {
   "codemirror_mode": {
    "name": "ipython",
    "version": 3
   },
   "file_extension": ".py",
   "mimetype": "text/x-python",
   "name": "python",
   "nbconvert_exporter": "python",
   "pygments_lexer": "ipython3",
   "version": "3.9.5"
  },
  "orig_nbformat": 4
 },
 "nbformat": 4,
 "nbformat_minor": 2
}
