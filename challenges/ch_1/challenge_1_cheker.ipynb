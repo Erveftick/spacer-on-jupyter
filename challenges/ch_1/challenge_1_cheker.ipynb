{
 "cells": [
  {
   "cell_type": "code",
   "execution_count": 68,
   "metadata": {},
   "outputs": [],
   "source": [
    "from z3 import *"
   ]
  },
  {
   "cell_type": "code",
   "execution_count": 69,
   "metadata": {},
   "outputs": [],
   "source": [
    "x0, x1, y0, y1 = z3.Ints(\"x0 x1 y0 y1\")\n",
    "N = 5000\n",
    "M = N * 2"
   ]
  },
  {
   "cell_type": "code",
   "execution_count": 70,
   "metadata": {},
   "outputs": [],
   "source": [
    "init = z3.And(x0 == 0, y0 == N)\n",
    "inductive_step = z3.And(x1 == x0 + 1, y1 == If(x0 >= N, y0 + 1, y0))\n",
    "bad = z3.And(x0 == M, z3.Not(x0 == y0))"
   ]
  },
  {
   "attachments": {},
   "cell_type": "markdown",
   "metadata": {},
   "source": [
    "Probable solution"
   ]
  },
  {
   "cell_type": "code",
   "execution_count": 71,
   "metadata": {},
   "outputs": [],
   "source": [
    "sol_pre = And( Implies(y0 >= 5001, x0 >= y0),\n",
    "               x0 <= y0,\n",
    "               y0 >= 5000)"
   ]
  },
  {
   "cell_type": "code",
   "execution_count": 72,
   "metadata": {},
   "outputs": [],
   "source": [
    "sol_post = substitute(sol_pre, [(x0, x1), (y0, y1)])"
   ]
  },
  {
   "cell_type": "code",
   "execution_count": 73,
   "metadata": {},
   "outputs": [
    {
     "name": "stdout",
     "output_type": "stream",
     "text": [
      "(and (= x0 0) (= y0 5000))\n",
      "(and (= x1 (+ x0 1)) (= y1 (ite (>= x0 5000) (+ y0 1) y0)))\n",
      "(and (=> (>= y0 5001) (>= x0 y0)) (<= x0 y0) (>= y0 5000))\n",
      "[Implies(y1 >= 5001, x1 >= y1), x1 <= y1, y1 >= 5000]\n"
     ]
    }
   ],
   "source": [
    "print(init.sexpr())\n",
    "print(inductive_step.sexpr())\n",
    "print(sol_pre.sexpr())\n",
    "print(sol_post.children())\n"
   ]
  },
  {
   "cell_type": "code",
   "execution_count": 74,
   "metadata": {},
   "outputs": [
    {
     "data": {
      "text/html": [
       "<b>unsat</b>"
      ],
      "text/plain": [
       "unsat"
      ]
     },
     "execution_count": 74,
     "metadata": {},
     "output_type": "execute_result"
    }
   ],
   "source": [
    "s_init = Solver()\n",
    "s_init.add(init)\n",
    "s_init.add(z3.Not(sol_pre))\n",
    "s_init.check()"
   ]
  },
  {
   "cell_type": "code",
   "execution_count": 75,
   "metadata": {},
   "outputs": [],
   "source": [
    "#m_init = s_init.model()\n",
    "#m_init"
   ]
  },
  {
   "cell_type": "code",
   "execution_count": 76,
   "metadata": {},
   "outputs": [],
   "source": [
    "#list(map(lambda w: m_init.eval(w) , sol_post.children()))"
   ]
  },
  {
   "cell_type": "code",
   "execution_count": 77,
   "metadata": {},
   "outputs": [
    {
     "data": {
      "text/html": [
       "<b>unsat</b>"
      ],
      "text/plain": [
       "unsat"
      ]
     },
     "execution_count": 77,
     "metadata": {},
     "output_type": "execute_result"
    }
   ],
   "source": [
    "s_tr = Solver()\n",
    "s_tr.add(sol_pre, inductive_step, z3.Not(sol_post))\n",
    "s_tr.check()"
   ]
  },
  {
   "cell_type": "code",
   "execution_count": 78,
   "metadata": {},
   "outputs": [],
   "source": [
    "#m_tr = s_tr.model()\n",
    "#m_tr"
   ]
  },
  {
   "cell_type": "code",
   "execution_count": 79,
   "metadata": {},
   "outputs": [
    {
     "data": {
      "text/plain": [
       "[Implies(y1 >= 5001, x1 >= y1), x1 <= y1, y1 >= 5000]"
      ]
     },
     "execution_count": 79,
     "metadata": {},
     "output_type": "execute_result"
    }
   ],
   "source": [
    "sol_post.children()"
   ]
  },
  {
   "cell_type": "code",
   "execution_count": 80,
   "metadata": {},
   "outputs": [
    {
     "data": {
      "text/plain": [
       "[True, False, True]"
      ]
     },
     "execution_count": 80,
     "metadata": {},
     "output_type": "execute_result"
    }
   ],
   "source": [
    "list(map(lambda w: m_tr.eval(w) , sol_post.children()))"
   ]
  },
  {
   "cell_type": "code",
   "execution_count": 81,
   "metadata": {},
   "outputs": [
    {
     "data": {
      "text/html": [
       "<b>unsat</b>"
      ],
      "text/plain": [
       "unsat"
      ]
     },
     "execution_count": 81,
     "metadata": {},
     "output_type": "execute_result"
    }
   ],
   "source": [
    "s_fail = Solver()\n",
    "s_fail.add(sol_pre, bad)\n",
    "s_fail.check()\n"
   ]
  },
  {
   "cell_type": "code",
   "execution_count": 82,
   "metadata": {},
   "outputs": [
    {
     "name": "stdout",
     "output_type": "stream",
     "text": [
      "And(x0 == 10000, Not(x0 == y0))\n",
      "[And(Implies(y0 >= 5001, x0 >= y0), x0 <= y0, y0 >= 5000),\n",
      " And(x0 == 10000, Not(x0 == y0))]\n"
     ]
    }
   ],
   "source": [
    "print(bad)\n",
    "print(s_fail)"
   ]
  },
  {
   "cell_type": "code",
   "execution_count": 83,
   "metadata": {},
   "outputs": [],
   "source": [
    "#m_f = s_fail.model()\n",
    "#m_f"
   ]
  },
  {
   "cell_type": "code",
   "execution_count": 84,
   "metadata": {},
   "outputs": [
    {
     "data": {
      "text/plain": [
       "[Implies(y1 >= 5001, x1 >= y1), x1 <= y1, y1 >= 5000]"
      ]
     },
     "execution_count": 84,
     "metadata": {},
     "output_type": "execute_result"
    }
   ],
   "source": [
    "sol_post.children()"
   ]
  },
  {
   "cell_type": "code",
   "execution_count": 85,
   "metadata": {},
   "outputs": [
    {
     "ename": "NameError",
     "evalue": "name 'm_f' is not defined",
     "output_type": "error",
     "traceback": [
      "\u001b[0;31m---------------------------------------------------------------------------\u001b[0m",
      "\u001b[0;31mNameError\u001b[0m                                 Traceback (most recent call last)",
      "Cell \u001b[0;32mIn[85], line 1\u001b[0m\n\u001b[0;32m----> 1\u001b[0m \u001b[39mlist\u001b[39;49m(\u001b[39mmap\u001b[39;49m(\u001b[39mlambda\u001b[39;49;00m w: m_f\u001b[39m.\u001b[39;49meval(w) , sol_post\u001b[39m.\u001b[39;49mchildren()))\n",
      "Cell \u001b[0;32mIn[85], line 1\u001b[0m, in \u001b[0;36m<lambda>\u001b[0;34m(w)\u001b[0m\n\u001b[0;32m----> 1\u001b[0m \u001b[39mlist\u001b[39m(\u001b[39mmap\u001b[39m(\u001b[39mlambda\u001b[39;00m w: m_f\u001b[39m.\u001b[39meval(w) , sol_post\u001b[39m.\u001b[39mchildren()))\n",
      "\u001b[0;31mNameError\u001b[0m: name 'm_f' is not defined"
     ]
    }
   ],
   "source": [
    "list(map(lambda w: m_f.eval(w) , sol_post.children()))"
   ]
  }
 ],
 "metadata": {
  "kernelspec": {
   "display_name": "venv",
   "language": "python",
   "name": "python3"
  },
  "language_info": {
   "codemirror_mode": {
    "name": "ipython",
    "version": 3
   },
   "file_extension": ".py",
   "mimetype": "text/x-python",
   "name": "python",
   "nbconvert_exporter": "python",
   "pygments_lexer": "ipython3",
   "version": "3.9.5"
  },
  "orig_nbformat": 4
 },
 "nbformat": 4,
 "nbformat_minor": 2
}
