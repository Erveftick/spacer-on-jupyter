{
 "cells": [
  {
   "cell_type": "code",
   "execution_count": 1,
   "metadata": {},
   "outputs": [],
   "source": [
    "from z3 import *"
   ]
  },
  {
   "cell_type": "code",
   "execution_count": 2,
   "metadata": {},
   "outputs": [],
   "source": [
    "x0, x1, y0, y1 = z3.Ints(\"x0 x1 y0 y1\")\n",
    "N = 1351235\n",
    "M = N * 2"
   ]
  },
  {
   "cell_type": "code",
   "execution_count": 3,
   "metadata": {},
   "outputs": [],
   "source": [
    "init = z3.And(x0 == 0, y0 == 0)\n",
    "inductive_step = z3.And(x1 == x0 + 1, y1 == If(x0 % 2 == 0, y0 + 1, y0))\n",
    "bad = z3.And(x0 == M, z3.Not(y0 == N))"
   ]
  },
  {
   "attachments": {},
   "cell_type": "markdown",
   "metadata": {},
   "source": [
    "(1 ≤ x%2 ⇒ 1 ≤ 2·y + -1·x) ∧ 1351234 ≥ y ∧ 1 ≥ x ∧ -1 ≤ 2·y + -1·x ∧ (2702470 ≤ x ∨ 2·y ≥ x ∨ -1 ≥ y)"
   ]
  },
  {
   "cell_type": "code",
   "execution_count": 4,
   "metadata": {},
   "outputs": [],
   "source": [
    "sol_pre = And( Implies(x0 % 2 == 1, x0 == (2 * y0) -1),\n",
    "               x0 <= 2 * y0,\n",
    "               x0 >= 2*y0 - 1)"
   ]
  },
  {
   "cell_type": "code",
   "execution_count": 5,
   "metadata": {},
   "outputs": [],
   "source": [
    "sol_post = substitute(sol_pre, [(x0, x1), (y0, y1)])"
   ]
  },
  {
   "cell_type": "code",
   "execution_count": 6,
   "metadata": {},
   "outputs": [
    {
     "name": "stdout",
     "output_type": "stream",
     "text": [
      "(and (= x0 0) (= y0 0))\n",
      "(let ((a!1 (= y1 (ite (= (mod x0 2) 0) (+ y0 1) y0))))\n",
      "  (and (= x1 (+ x0 1)) a!1))\n",
      "(and (=> (>= y0 5000) (>= x0 y0)) (<= x0 y0) (>= y0 5000))\n",
      "[Implies(y1 >= 5000, x1 >= y1), x1 <= y1, y1 >= 5000]\n"
     ]
    }
   ],
   "source": [
    "print(init.sexpr())\n",
    "print(inductive_step.sexpr())\n",
    "print(sol_pre.sexpr())\n",
    "print(sol_post.children())\n"
   ]
  },
  {
   "cell_type": "code",
   "execution_count": 7,
   "metadata": {},
   "outputs": [
    {
     "data": {
      "text/html": [
       "<b>sat</b>"
      ],
      "text/plain": [
       "sat"
      ]
     },
     "execution_count": 7,
     "metadata": {},
     "output_type": "execute_result"
    }
   ],
   "source": [
    "s_init = Solver()\n",
    "s_init.add(init)\n",
    "s_init.add(z3.Not(sol_pre))\n",
    "s_init.check()"
   ]
  },
  {
   "cell_type": "code",
   "execution_count": 8,
   "metadata": {},
   "outputs": [
    {
     "data": {
      "text/html": [
       "<b>sat</b>"
      ],
      "text/plain": [
       "sat"
      ]
     },
     "execution_count": 8,
     "metadata": {},
     "output_type": "execute_result"
    }
   ],
   "source": [
    "s_tr = Solver()\n",
    "s_tr.add(sol_pre, inductive_step, z3.Not(sol_post))\n",
    "s_tr.check()"
   ]
  },
  {
   "cell_type": "code",
   "execution_count": 12,
   "metadata": {},
   "outputs": [
    {
     "data": {
      "text/html": [
       "[y0 = 5001, x0 = 5001, x1 = 5002, y1 = 5001]"
      ],
      "text/plain": [
       "[y0 = 5001, x0 = 5001, x1 = 5002, y1 = 5001]"
      ]
     },
     "execution_count": 12,
     "metadata": {},
     "output_type": "execute_result"
    }
   ],
   "source": [
    "m_tr = s_tr.model()\n",
    "m_tr"
   ]
  },
  {
   "cell_type": "code",
   "execution_count": 10,
   "metadata": {},
   "outputs": [
    {
     "data": {
      "text/plain": [
       "[Implies(y1 >= 5000, x1 >= y1), x1 <= y1, y1 >= 5000]"
      ]
     },
     "execution_count": 10,
     "metadata": {},
     "output_type": "execute_result"
    }
   ],
   "source": [
    "sol_post.children()"
   ]
  },
  {
   "cell_type": "code",
   "execution_count": 11,
   "metadata": {},
   "outputs": [
    {
     "ename": "NameError",
     "evalue": "name 'm_tr' is not defined",
     "output_type": "error",
     "traceback": [
      "\u001b[0;31m---------------------------------------------------------------------------\u001b[0m",
      "\u001b[0;31mNameError\u001b[0m                                 Traceback (most recent call last)",
      "Cell \u001b[0;32mIn[11], line 1\u001b[0m\n\u001b[0;32m----> 1\u001b[0m \u001b[39mlist\u001b[39;49m(\u001b[39mmap\u001b[39;49m(\u001b[39mlambda\u001b[39;49;00m w: m_tr\u001b[39m.\u001b[39;49meval(w) , sol_post\u001b[39m.\u001b[39;49mchildren()))\n",
      "Cell \u001b[0;32mIn[11], line 1\u001b[0m, in \u001b[0;36m<lambda>\u001b[0;34m(w)\u001b[0m\n\u001b[0;32m----> 1\u001b[0m \u001b[39mlist\u001b[39m(\u001b[39mmap\u001b[39m(\u001b[39mlambda\u001b[39;00m w: m_tr\u001b[39m.\u001b[39meval(w) , sol_post\u001b[39m.\u001b[39mchildren()))\n",
      "\u001b[0;31mNameError\u001b[0m: name 'm_tr' is not defined"
     ]
    }
   ],
   "source": [
    "list(map(lambda w: m_tr.eval(w) , sol_post.children()))"
   ]
  },
  {
   "cell_type": "code",
   "execution_count": null,
   "metadata": {},
   "outputs": [
    {
     "data": {
      "text/html": [
       "<b>unsat</b>"
      ],
      "text/plain": [
       "unsat"
      ]
     },
     "execution_count": 781,
     "metadata": {},
     "output_type": "execute_result"
    }
   ],
   "source": [
    "s_fail = Solver()\n",
    "s_fail.add(sol_pre, bad)\n",
    "s_fail.check()\n"
   ]
  },
  {
   "cell_type": "code",
   "execution_count": null,
   "metadata": {},
   "outputs": [
    {
     "name": "stdout",
     "output_type": "stream",
     "text": [
      "And(x0 == 2702470, Not(y0 == 1351235))\n",
      "[And(Implies(x0%2 == 1, x0 == 2*y0 - 1),\n",
      "     x0 <= 2*y0,\n",
      "     x0 >= 2*y0 - 1),\n",
      " And(x0 == 2702470, Not(y0 == 1351235))]\n"
     ]
    }
   ],
   "source": [
    "print(bad)\n",
    "print(s_fail)"
   ]
  },
  {
   "cell_type": "code",
   "execution_count": null,
   "metadata": {},
   "outputs": [],
   "source": [
    "#m_f = s_fail.model()\n",
    "#m_f"
   ]
  },
  {
   "cell_type": "code",
   "execution_count": null,
   "metadata": {},
   "outputs": [
    {
     "data": {
      "text/plain": [
       "[Implies(x1%2 == 1, x1 == 2*y1 - 1), x1 <= 2*y1, x1 >= 2*y1 - 1]"
      ]
     },
     "execution_count": 784,
     "metadata": {},
     "output_type": "execute_result"
    }
   ],
   "source": [
    "sol_post.children()"
   ]
  },
  {
   "cell_type": "code",
   "execution_count": null,
   "metadata": {},
   "outputs": [
    {
     "data": {
      "text/plain": [
       "[Or(Not(x1%2 == 1), x1 == -1 + 2*y1), x1 <= 2*y1, x1 >= -1 + 2*y1]"
      ]
     },
     "execution_count": 785,
     "metadata": {},
     "output_type": "execute_result"
    }
   ],
   "source": [
    "list(map(lambda w: m_f.eval(w) , sol_post.children()))"
   ]
  }
 ],
 "metadata": {
  "kernelspec": {
   "display_name": "venv",
   "language": "python",
   "name": "python3"
  },
  "language_info": {
   "codemirror_mode": {
    "name": "ipython",
    "version": 3
   },
   "file_extension": ".py",
   "mimetype": "text/x-python",
   "name": "python",
   "nbconvert_exporter": "python",
   "pygments_lexer": "ipython3",
   "version": "3.9.5"
  },
  "orig_nbformat": 4
 },
 "nbformat": 4,
 "nbformat_minor": 2
}
